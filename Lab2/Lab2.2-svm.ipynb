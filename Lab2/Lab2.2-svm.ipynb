{
  "cells": [
    {
      "cell_type": "markdown",
      "metadata": {
        "id": "view-in-github",
        "colab_type": "text"
      },
      "source": [
        "<a href=\"https://colab.research.google.com/github/Azadshokrollahi/Artificial-intelligence-for-data-science-/blob/main/Lab2.2-svm.ipynb\" target=\"_parent\"><img src=\"https://colab.research.google.com/assets/colab-badge.svg\" alt=\"Open In Colab\"/></a>"
      ]
    },
    {
      "cell_type": "markdown",
      "id": "39444d95-9534-4e00-a43b-c526074796b6",
      "metadata": {
        "id": "39444d95-9534-4e00-a43b-c526074796b6"
      },
      "source": [
        "# <font color='#EE15D'>**SVM**</font>"
      ]
    },
    {
      "cell_type": "markdown",
      "source": [
        "<font color='#EE15D'>**Questions:**</font>\n",
        "\n",
        "1.   LinearSVC section: Create 2 models (model1, model2), compare the results after visulizations, Which one is a better classifier for this dataset?\n",
        "2.   SVC section: Create one model (model3), with SVC and compare it with 2 previous models after visulizations .\n",
        "1.   Use model3.support_ and model3.n_support_ to determine the number of support vectors in each class in model 3. Visualize the support vectors. How many support vectors are there in Class 1 and Class 2 (separately)?\n",
        "2.   NuSVC section, Create one model (model4) with NuSVC, and compare it with 3 previous models after visulizations.\n",
        "1.   Visualize model 4 and compare the number of support vector machines with model 3.\n",
        "2.   Kernel Trick section: Create 3 models (model5, model6, and model7), Visualize the results of the 3 models and interpret them. Which model best fits the data?\n",
        "\n",
        "<font color='#EE15D'>Note:</font> Proceed through the code, answering the questions one by one in separate cells, each inserted after its corresponding question.\n",
        "\n",
        "\n",
        "\n",
        "\n"
      ],
      "metadata": {
        "id": "Sg0qTIbaHz3-"
      },
      "id": "Sg0qTIbaHz3-"
    },
    {
      "cell_type": "markdown",
      "id": "d92e6a20-72ff-448d-9d3f-180a750b3644",
      "metadata": {
        "jp-MarkdownHeadingCollapsed": true,
        "tags": [],
        "id": "d92e6a20-72ff-448d-9d3f-180a750b3644"
      },
      "source": [
        "## **🔸 Imports**"
      ]
    },
    {
      "cell_type": "code",
      "execution_count": null,
      "id": "5519d590-222a-4bdb-b2aa-1bc1372bb83f",
      "metadata": {
        "id": "5519d590-222a-4bdb-b2aa-1bc1372bb83f"
      },
      "outputs": [],
      "source": [
        "import pandas as pd\n",
        "import numpy as np\n",
        "import matplotlib.pyplot as plt\n",
        "\n",
        "from sklearn.datasets import make_classification, make_regression\n",
        "from sklearn.model_selection import train_test_split\n",
        "from sklearn.preprocessing import StandardScaler"
      ]
    },
    {
      "cell_type": "markdown",
      "source": [
        "<font color='#EE15D'>Note:</font>  Before starting, if you are not familiar with scikit-learn or how to import, please study this link.\n",
        "\n",
        "https://scikit-learn.org/stable/modules/generated/sklearn.svm.SVC.html\n",
        "\n"
      ],
      "metadata": {
        "id": "bn_kL1N49ne3"
      },
      "id": "bn_kL1N49ne3"
    },
    {
      "cell_type": "markdown",
      "id": "9b20759a-3a0d-47a2-8bb3-763f926a0cad",
      "metadata": {
        "jp-MarkdownHeadingCollapsed": true,
        "tags": [],
        "id": "9b20759a-3a0d-47a2-8bb3-763f926a0cad"
      },
      "source": [
        "## **🔸 SVM (sklearn)**"
      ]
    },
    {
      "cell_type": "code",
      "execution_count": null,
      "id": "81a06f53-196e-4773-8897-d2f8eba91773",
      "metadata": {
        "id": "81a06f53-196e-4773-8897-d2f8eba91773"
      },
      "outputs": [],
      "source": [
        "from sklearn.svm import LinearSVC, SVC, NuSVC"
      ]
    },
    {
      "cell_type": "markdown",
      "source": [
        "<font color='#EE15D'>We have created a dataset with 1000 samples and 2 classes"
      ],
      "metadata": {
        "id": "wkXw2Iq9-jVO"
      },
      "id": "wkXw2Iq9-jVO"
    },
    {
      "cell_type": "code",
      "execution_count": null,
      "id": "55541fc3-7254-4510-96af-e94e7575b4cc",
      "metadata": {
        "id": "55541fc3-7254-4510-96af-e94e7575b4cc"
      },
      "outputs": [],
      "source": [
        "X, y = make_classification(n_samples=1000, n_features=2, n_informative=2, n_redundant=0,\n",
        "                           n_clusters_per_class=1, class_sep=3., random_state=12)\n",
        "\n",
        "plt.scatter(X[:, 0], X[:, 1], c=y, cmap='jet');"
      ]
    },
    {
      "cell_type": "markdown",
      "id": "aca385fc-e237-4007-9dea-b037be733875",
      "metadata": {
        "jp-MarkdownHeadingCollapsed": true,
        "tags": [],
        "id": "aca385fc-e237-4007-9dea-b037be733875"
      },
      "source": [
        "### `LinearSVC`"
      ]
    },
    {
      "cell_type": "markdown",
      "source": [
        "<font color='#GG15D'>**Question1:**</font> <font color='#EE15D'>Create 2 models based on the following hyperparameters and compare the results after visulizations:\n",
        "\n",
        "\n",
        "\n",
        "*   **model1**: LinearSVC, loss= hinge, C=1.2, max_iter=2000\n",
        "*   **model2**: LinearSVC, loss= squared_hinge, C=2.5, max_iter=1000\n",
        "\n",
        "<font color='#EE15D'>Which one is a better classifier for this dataset?\n",
        "\n",
        "\n",
        "\n"
      ],
      "metadata": {
        "id": "irptI1Nv-v2v"
      },
      "id": "irptI1Nv-v2v"
    },
    {
      "cell_type": "code",
      "execution_count": null,
      "id": "f2309aad-aef0-4088-9b28-cbaac761747b",
      "metadata": {
        "id": "f2309aad-aef0-4088-9b28-cbaac761747b"
      },
      "outputs": [],
      "source": [
        "model1 = ..............................................\n",
        "model1.fit(X, y)"
      ]
    },
    {
      "cell_type": "code",
      "source": [
        "model2 = .............................................\n",
        "model2.fit(X, y)"
      ],
      "metadata": {
        "id": "OjOTTact6sTH"
      },
      "id": "OjOTTact6sTH",
      "execution_count": null,
      "outputs": []
    },
    {
      "cell_type": "code",
      "execution_count": null,
      "id": "018b0eb8-32dd-4a9b-9576-163a91cbe4dd",
      "metadata": {
        "collapsed": true,
        "id": "018b0eb8-32dd-4a9b-9576-163a91cbe4dd"
      },
      "outputs": [],
      "source": [
        "#Use this code for visualization for both models\n",
        "n = 1000\n",
        "xmin, xmax = X.min(0), X.max(0)\n",
        "x1r = np.linspace(xmin[0], xmax[0], n)\n",
        "x2r = np.linspace(xmin[1], xmax[1], n)\n",
        "x1m, x2m = np.meshgrid(x1r, x2r)\n",
        "\n",
        "Xm = np.stack((x1m.flatten(), x2m.flatten()), axis=1)\n",
        "ym = model1.decision_function(Xm)\n",
        "ym = ym.reshape(x1m.shape)\n",
        "\n",
        "# plt.contourf(x1m, x2m, ym, levels=[-20, -1, 1, 20], cmap='plasma')\n",
        "plt.contour(x1m, x2m, ym, levels=[-1, 0, 1], linestyles=['--', '-', '--'], linewidths=3, colors='green')\n",
        "\n",
        "plt.scatter(X[:, 0], X[:, 1], c=y, cmap='jet', s=50, zorder=3)"
      ]
    },
    {
      "cell_type": "markdown",
      "id": "4546bdfb-08f9-4f2c-aaa5-0830590320f9",
      "metadata": {
        "jp-MarkdownHeadingCollapsed": true,
        "tags": [],
        "id": "4546bdfb-08f9-4f2c-aaa5-0830590320f9"
      },
      "source": [
        "### `SVC`"
      ]
    },
    {
      "cell_type": "markdown",
      "source": [
        "<font color='#GG15D'>**Question2:** </font> <font color='#EE15D'>Create one model (model3) with SVC based on the following info and compare it with 2 previous models after visulizations:\n",
        "\n",
        "\n",
        "\n",
        "*   **model3**: SVC, C=1.0, kernel=linear, probability=True\n",
        "\n"
      ],
      "metadata": {
        "id": "DVSfSQYCCU23"
      },
      "id": "DVSfSQYCCU23"
    },
    {
      "cell_type": "code",
      "execution_count": null,
      "id": "fa7e6745-1d93-44ee-ab04-032a7dc5b5f8",
      "metadata": {
        "id": "fa7e6745-1d93-44ee-ab04-032a7dc5b5f8"
      },
      "outputs": [],
      "source": [
        "model3 = ................................................\n",
        "model3.fit(X, y)"
      ]
    },
    {
      "cell_type": "code",
      "execution_count": null,
      "id": "948f74eb-f169-4a0b-9617-9f9b546bade3",
      "metadata": {
        "id": "948f74eb-f169-4a0b-9617-9f9b546bade3"
      },
      "outputs": [],
      "source": [
        "n = 1000\n",
        "xmin, xmax = X.min(0), X.max(0)\n",
        "x1r = np.linspace(xmin[0], xmax[0], n)\n",
        "x2r = np.linspace(xmin[1], xmax[1], n)\n",
        "x1m, x2m = np.meshgrid(x1r, x2r)\n",
        "\n",
        "Xm = np.stack((x1m.flatten(), x2m.flatten()), axis=1)\n",
        "ym = model3.decision_function(Xm)\n",
        "ym = ym.reshape(x1m.shape)\n",
        "\n",
        "# plt.contourf(x1m, x2m, ym, levels=[-20, -1, 1, 20], cmap='plasma')\n",
        "plt.contour(x1m, x2m, ym, levels=[-1, 0, 1], linestyles=['--', '-', '--'], linewidths=3, colors='green')\n",
        "\n",
        "plt.scatter(X[:, 0], X[:, 1], c=y, cmap='jet', s=50, zorder=3)\n"
      ]
    },
    {
      "cell_type": "markdown",
      "source": [
        "<font color='#GG15D'>**Question3**:</font> Use <font color='#EE15D'> model3.support_</font> and <font color='#EE15D'>model3.n_support_</font> to determine the number of support vectors in each class. Then, use the code below to visualize the support vectors. How many support vectors are there in Class 1 and Class 2 (separately)?"
      ],
      "metadata": {
        "id": "W5LkICiaFeDe"
      },
      "id": "W5LkICiaFeDe"
    },
    {
      "cell_type": "code",
      "execution_count": null,
      "id": "a0661273-30d0-4ffc-9131-d7c6e2a64b7b",
      "metadata": {
        "id": "a0661273-30d0-4ffc-9131-d7c6e2a64b7b"
      },
      "outputs": [],
      "source": [
        "model3.support_, model3.n_support_"
      ]
    },
    {
      "cell_type": "code",
      "source": [
        "n = 1000\n",
        "xmin, xmax = X.min(0), X.max(0)\n",
        "x1r = np.linspace(xmin[0], xmax[0], n)\n",
        "x2r = np.linspace(xmin[1], xmax[1], n)\n",
        "x1m, x2m = np.meshgrid(x1r, x2r)\n",
        "\n",
        "Xm = np.stack((x1m.flatten(), x2m.flatten()), axis=1)\n",
        "ym = model3.decision_function(Xm)\n",
        "ym = ym.reshape(x1m.shape)\n",
        "\n",
        "# plt.contourf(x1m, x2m, ym, levels=[-20, -1, 1, 20], cmap='plasma')\n",
        "plt.contour(x1m, x2m, ym, levels=[-1, 0, 1], linestyles=['--', '-', '--'], linewidths=3, colors='green')\n",
        "\n",
        "plt.scatter(X[:, 0], X[:, 1], c=y, cmap='jet', s=50, zorder=3)\n",
        "sv = model3.support_vectors_\n",
        "plt.scatter(sv[:, 0], sv[:, 1], zorder=4, c='y', s=100, edgecolors='k')"
      ],
      "metadata": {
        "id": "jV0Q8j4cEVoa"
      },
      "id": "jV0Q8j4cEVoa",
      "execution_count": null,
      "outputs": []
    },
    {
      "cell_type": "markdown",
      "id": "3494e7b9-b48c-4eaa-8a23-5cca911e56fd",
      "metadata": {
        "jp-MarkdownHeadingCollapsed": true,
        "tags": [],
        "id": "3494e7b9-b48c-4eaa-8a23-5cca911e56fd"
      },
      "source": [
        "### `NuSVC`"
      ]
    },
    {
      "cell_type": "markdown",
      "source": [
        "<font color='#GG15D'>**Question4**:</font> <font color='#EE15D'>Create one model (model4) with NuSVC based on the following hyperparameters and compare it with 3 previous models after visulizations:\n",
        "\n",
        "\n",
        "\n",
        "*   **model4**: NuSVC, nu=0.95, kernel=linear, probability=True\n"
      ],
      "metadata": {
        "id": "Wknd2IJvHd1k"
      },
      "id": "Wknd2IJvHd1k"
    },
    {
      "cell_type": "code",
      "execution_count": null,
      "id": "b18117af-32e3-46c3-8407-8263c9f3631b",
      "metadata": {
        "id": "b18117af-32e3-46c3-8407-8263c9f3631b"
      },
      "outputs": [],
      "source": [
        "model4 = NuSVC(nu=0.05, kernel='linear', probability=True)\n",
        "model4.fit(X, y)"
      ]
    },
    {
      "cell_type": "markdown",
      "source": [
        "<font color='#GG15D'>**Question5**:</font> <font color='#EE15D'>Visualize model 4 with the following code and compare the number of support vector machines with model 3."
      ],
      "metadata": {
        "id": "6X1i3J3c8gDd"
      },
      "id": "6X1i3J3c8gDd"
    },
    {
      "cell_type": "code",
      "execution_count": null,
      "id": "097b4251-9382-4285-b693-719d823cd555",
      "metadata": {
        "id": "097b4251-9382-4285-b693-719d823cd555"
      },
      "outputs": [],
      "source": [
        "n = 1000\n",
        "xmin, xmax = X.min(0), X.max(0)\n",
        "x1r = np.linspace(xmin[0], xmax[0], n)\n",
        "x2r = np.linspace(xmin[1], xmax[1], n)\n",
        "x1m, x2m = np.meshgrid(x1r, x2r)\n",
        "\n",
        "Xm = np.stack((x1m.flatten(), x2m.flatten()), axis=1)\n",
        "ym = model4.decision_function(Xm)\n",
        "ym = ym.reshape(x1m.shape)\n",
        "\n",
        "# plt.contourf(x1m, x2m, ym, levels=[-20, -1, 1, 20], cmap='plasma')\n",
        "plt.contour(x1m, x2m, ym, levels=[-1, 0, 1], linestyles=['--', '-', '--'], linewidths=3, colors='green')\n",
        "\n",
        "plt.scatter(X[:, 0], X[:, 1], c=y, cmap='jet', s=50, zorder=3)\n",
        "\n",
        "sv = model4.support_vectors_\n",
        "plt.scatter(sv[:, 0], sv[:, 1], zorder=4, c='none', s=100, edgecolors='y')"
      ]
    },
    {
      "cell_type": "markdown",
      "id": "fe127e0c-e203-4781-ba60-850cc2077eab",
      "metadata": {
        "jp-MarkdownHeadingCollapsed": true,
        "tags": [],
        "id": "fe127e0c-e203-4781-ba60-850cc2077eab"
      },
      "source": [
        "## **🔸 Kernel Trick (sklearn)**"
      ]
    },
    {
      "cell_type": "markdown",
      "source": [
        "<font color='#EE15D'>When the dataset is not linearly separable"
      ],
      "metadata": {
        "id": "8_QofDIl_b62"
      },
      "id": "8_QofDIl_b62"
    },
    {
      "cell_type": "code",
      "execution_count": null,
      "id": "c4a85a63-844b-478a-828e-2c83f32a8c48",
      "metadata": {
        "id": "c4a85a63-844b-478a-828e-2c83f32a8c48"
      },
      "outputs": [],
      "source": [
        "from sklearn.svm import SVC"
      ]
    },
    {
      "cell_type": "code",
      "execution_count": null,
      "id": "53110895-7b98-4c50-920c-ca921e646996",
      "metadata": {
        "id": "53110895-7b98-4c50-920c-ca921e646996"
      },
      "outputs": [],
      "source": [
        "#Load the dataset\n",
        "data = np.loadtxt('/content/ex2data2.txt', delimiter=',')\n",
        "\n",
        "X = data[:, :-1].copy()\n",
        "y = data[:, -1].copy().astype(np.int64)\n",
        "\n",
        "normz = StandardScaler()\n",
        "X = normz.fit_transform(X)\n",
        "\n",
        "plt.scatter(X[:, 0], X[:, 1], c=y, cmap='jet');"
      ]
    },
    {
      "cell_type": "markdown",
      "source": [
        "<font color='#GG15D'>**Question6**: <font color='#EE15D'>Create 3 models (model5, model6, and model7) with the following hyperparameters:\n",
        "\n",
        "\n",
        "\n",
        "*   **model5** : SVC, C=1.0, kernel=poly, degree=2, coef0=1\n",
        "*   **model6** : SVC, C=1.0, kernel=rbf, degree=2, coef0=1\n",
        "*   **model7** : SVC, C=1.0, kernel=sigmoid, degree=2, coef0=1\n",
        "\n",
        "<font color='#EE15D'>Visualize the results of the 3 models and interpret them. Which model best fits the data?\n",
        "\n",
        "\n",
        "\n",
        "\n"
      ],
      "metadata": {
        "id": "_YoS_8GbAHgE"
      },
      "id": "_YoS_8GbAHgE"
    },
    {
      "cell_type": "code",
      "execution_count": null,
      "id": "7e6a5308-097f-4f09-ba73-5aef1bb24d42",
      "metadata": {
        "id": "7e6a5308-097f-4f09-ba73-5aef1bb24d42"
      },
      "outputs": [],
      "source": [
        "model5 = ...............................\n",
        "model5.fit(X, y)"
      ]
    },
    {
      "cell_type": "code",
      "source": [
        "model6 = .................................\n",
        "model6.fit(X, y)"
      ],
      "metadata": {
        "id": "gsM8WKGR-2Y9"
      },
      "id": "gsM8WKGR-2Y9",
      "execution_count": null,
      "outputs": []
    },
    {
      "cell_type": "code",
      "source": [
        "model7 = ...............................\n",
        "model7.fit(X, y)"
      ],
      "metadata": {
        "id": "UIcq4_LZ-6m2"
      },
      "id": "UIcq4_LZ-6m2",
      "execution_count": null,
      "outputs": []
    },
    {
      "cell_type": "code",
      "source": [
        "n = 1000\n",
        "xmin, xmax = X.min(0), X.max(0)\n",
        "x1r = np.linspace(xmin[0], xmax[0], n)\n",
        "x2r = np.linspace(xmin[1], xmax[1], n)\n",
        "x1m, x2m = np.meshgrid(x1r, x2r)\n",
        "\n",
        "Xm = np.stack((x1m.flatten(), x2m.flatten()), axis=1)\n",
        "ym = model5.decision_function(Xm)\n",
        "ym = ym.reshape(x1m.shape)\n",
        "\n",
        "plt.contour(x1m, x2m, ym, levels=[0], linewidths=3, colors='green')\n",
        "\n",
        "plt.scatter(X[:, 0], X[:, 1], c=y, cmap='jet', s=50, zorder=3)\n",
        "\n",
        "sv = model5.support_vectors_\n",
        "plt.scatter(sv[:, 0], sv[:, 1], zorder=4, c='none', s=100, edgecolors='y')"
      ],
      "metadata": {
        "id": "8BbUUP1Ii4SG"
      },
      "id": "8BbUUP1Ii4SG",
      "execution_count": null,
      "outputs": []
    }
  ],
  "metadata": {
    "kernelspec": {
      "display_name": "Python 3",
      "name": "python3"
    },
    "language_info": {
      "codemirror_mode": {
        "name": "ipython",
        "version": 3
      },
      "file_extension": ".py",
      "mimetype": "text/x-python",
      "name": "python",
      "nbconvert_exporter": "python",
      "pygments_lexer": "ipython3",
      "version": "3.9.15"
    },
    "colab": {
      "provenance": [],
      "include_colab_link": true
    }
  },
  "nbformat": 4,
  "nbformat_minor": 5
}