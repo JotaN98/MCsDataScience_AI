{
 "cells": [
  {
   "cell_type": "markdown",
   "metadata": {
    "id": "view-in-github",
    "colab_type": "text"
   },
   "source": [
    "<a href=\"https://colab.research.google.com/github/Azadshokrollahi/Artificial-intelligence-for-data-science-/blob/main/Lab2.1-decision_trees.ipynb\" target=\"_parent\"><img src=\"https://colab.research.google.com/assets/colab-badge.svg\" alt=\"Open In Colab\"/></a>"
   ],
   "id": "6562316067bab574"
  },
  {
   "cell_type": "markdown",
   "source": [
    "# Structure of Lab 2\n",
    "\n",
    "- **1. Decision Tree**\n",
    "  - **Part 1: ID3 (from scratch) — placeholders 1–13**\n",
    "    - Use the **Baseball** train and test datasets (Canvas → Lab section).\n",
    "    - **Notes**\n",
    "      - Print the **information gain (IG)** for all features and compare them.\n",
    "      - Build and **visualize the decision tree**.\n",
    "      - **Compute predictions** on the test set.\n",
    "    - **Also:** Fill out all **16 placeholders** in the code and **answer 3 questions**.\n",
    "  - **Part 2: Decision Tree (scikit-learn) — Regression**\n",
    "    - Use the **Energy** train and test datasets.\n",
    "    - **Tasks**\n",
    "      - **Visualize** the tree at **four different depths**.\n",
    "      - **Compare** their final **errors**.\n",
    "      - **State** which **depth performs best** for this dataset.\n",
    "\n",
    "- **2. SVM**\n",
    "  - Proceed through the code, **answering 6 questions** one by one in **separate cells**, each inserted **after its corresponding question**.\n",
    "  - For **Questions 1–5**,  use the**created dataset** .\n",
    "  - For **Question 6**, use the **ex2data2.txt** dataset\n",
    "  \n",
    "  ( All data available on GitHub).\n"
   ],
   "metadata": {
    "id": "4Aq8D5wHW-01"
   },
   "id": "4Aq8D5wHW-01"
  },
  {
   "cell_type": "markdown",
   "id": "39444d95-9534-4e00-a43b-c526074796b6",
   "metadata": {
    "id": "39444d95-9534-4e00-a43b-c526074796b6"
   },
   "source": [
    "# <font color='#TTE99D'>**Decision Trees 🌵**</font>"
   ]
  },
  {
   "cell_type": "markdown",
   "id": "d92e6a20-72ff-448d-9d3f-180a750b3644",
   "metadata": {
    "jp-MarkdownHeadingCollapsed": true,
    "tags": [],
    "id": "d92e6a20-72ff-448d-9d3f-180a750b3644"
   },
   "source": [
    "## **🔸 Imports**"
   ]
  },
  {
   "cell_type": "code",
   "id": "5519d590-222a-4bdb-b2aa-1bc1372bb83f",
   "metadata": {
    "id": "5519d590-222a-4bdb-b2aa-1bc1372bb83f",
    "ExecuteTime": {
     "end_time": "2025-10-14T14:07:36.259577Z",
     "start_time": "2025-10-14T14:07:08.979421Z"
    }
   },
   "source": [
    "import pandas as pd\n",
    "import numpy as np\n",
    "import matplotlib.pyplot as plt\n",
    "import base64\n",
    "from IPython.display import Image, display\n",
    "from sklearn.model_selection import train_test_split\n",
    "from sklearn import tree  #Importing directly (Not from scratch)"
   ],
   "outputs": [],
   "execution_count": 1
  },
  {
   "cell_type": "markdown",
   "id": "66cf6a80-9c54-47e9-92ea-b3c2d20e290f",
   "metadata": {
    "jp-MarkdownHeadingCollapsed": true,
    "tags": [],
    "id": "66cf6a80-9c54-47e9-92ea-b3c2d20e290f"
   },
   "source": [
    "## **🔸 Part 1: ID3 (from Scratch)**"
   ]
  },
  {
   "cell_type": "markdown",
   "id": "40a76beb-e4d0-4585-8cda-4d2ce8538ee5",
   "metadata": {
    "jp-MarkdownHeadingCollapsed": true,
    "tags": [],
    "id": "40a76beb-e4d0-4585-8cda-4d2ce8538ee5"
   },
   "source": [
    "### Data"
   ]
  },
  {
   "cell_type": "code",
   "id": "6bd748dc-4fb7-45d7-81e2-aafba825489d",
   "metadata": {
    "tags": [],
    "collapsed": true,
    "id": "6bd748dc-4fb7-45d7-81e2-aafba825489d",
    "ExecuteTime": {
     "end_time": "2025-10-14T14:11:44.012389Z",
     "start_time": "2025-10-14T14:11:43.960082Z"
    }
   },
   "source": [
    "data = pd.read_csv(\"Lab2-Data/baseball.csv\")                #(1) read baseball train dataset with pandas\n",
    "data"
   ],
   "outputs": [
    {
     "data": {
      "text/plain": [
       "     Outlook Temperature Humidity    Wind Play Golf\n",
       "0      Sunny         Hot     High    Weak        No\n",
       "1      Sunny         Hot     High  Strong        No\n",
       "2   Overcast         Hot     High    Weak       Yes\n",
       "3       Rain        Mild     High    Weak       Yes\n",
       "4       Rain        Cool   Normal    Weak       Yes\n",
       "5       Rain        Cool   Normal  Strong        No\n",
       "6   Overcast        Cool   Normal  Strong       Yes\n",
       "7      Sunny        Mild     High    Weak        No\n",
       "8      Sunny        Cool   Normal    Weak       Yes\n",
       "9       Rain        Mild   Normal    Weak       Yes\n",
       "10     Sunny        Mild   Normal  Strong       Yes\n",
       "11  Overcast        Mild     High  Strong       Yes\n",
       "12  Overcast         Hot   Normal    Weak       Yes\n",
       "13      Rain         Hot     High  Strong        No"
      ],
      "text/html": [
       "<div>\n",
       "<style scoped>\n",
       "    .dataframe tbody tr th:only-of-type {\n",
       "        vertical-align: middle;\n",
       "    }\n",
       "\n",
       "    .dataframe tbody tr th {\n",
       "        vertical-align: top;\n",
       "    }\n",
       "\n",
       "    .dataframe thead th {\n",
       "        text-align: right;\n",
       "    }\n",
       "</style>\n",
       "<table border=\"1\" class=\"dataframe\">\n",
       "  <thead>\n",
       "    <tr style=\"text-align: right;\">\n",
       "      <th></th>\n",
       "      <th>Outlook</th>\n",
       "      <th>Temperature</th>\n",
       "      <th>Humidity</th>\n",
       "      <th>Wind</th>\n",
       "      <th>Play Golf</th>\n",
       "    </tr>\n",
       "  </thead>\n",
       "  <tbody>\n",
       "    <tr>\n",
       "      <th>0</th>\n",
       "      <td>Sunny</td>\n",
       "      <td>Hot</td>\n",
       "      <td>High</td>\n",
       "      <td>Weak</td>\n",
       "      <td>No</td>\n",
       "    </tr>\n",
       "    <tr>\n",
       "      <th>1</th>\n",
       "      <td>Sunny</td>\n",
       "      <td>Hot</td>\n",
       "      <td>High</td>\n",
       "      <td>Strong</td>\n",
       "      <td>No</td>\n",
       "    </tr>\n",
       "    <tr>\n",
       "      <th>2</th>\n",
       "      <td>Overcast</td>\n",
       "      <td>Hot</td>\n",
       "      <td>High</td>\n",
       "      <td>Weak</td>\n",
       "      <td>Yes</td>\n",
       "    </tr>\n",
       "    <tr>\n",
       "      <th>3</th>\n",
       "      <td>Rain</td>\n",
       "      <td>Mild</td>\n",
       "      <td>High</td>\n",
       "      <td>Weak</td>\n",
       "      <td>Yes</td>\n",
       "    </tr>\n",
       "    <tr>\n",
       "      <th>4</th>\n",
       "      <td>Rain</td>\n",
       "      <td>Cool</td>\n",
       "      <td>Normal</td>\n",
       "      <td>Weak</td>\n",
       "      <td>Yes</td>\n",
       "    </tr>\n",
       "    <tr>\n",
       "      <th>5</th>\n",
       "      <td>Rain</td>\n",
       "      <td>Cool</td>\n",
       "      <td>Normal</td>\n",
       "      <td>Strong</td>\n",
       "      <td>No</td>\n",
       "    </tr>\n",
       "    <tr>\n",
       "      <th>6</th>\n",
       "      <td>Overcast</td>\n",
       "      <td>Cool</td>\n",
       "      <td>Normal</td>\n",
       "      <td>Strong</td>\n",
       "      <td>Yes</td>\n",
       "    </tr>\n",
       "    <tr>\n",
       "      <th>7</th>\n",
       "      <td>Sunny</td>\n",
       "      <td>Mild</td>\n",
       "      <td>High</td>\n",
       "      <td>Weak</td>\n",
       "      <td>No</td>\n",
       "    </tr>\n",
       "    <tr>\n",
       "      <th>8</th>\n",
       "      <td>Sunny</td>\n",
       "      <td>Cool</td>\n",
       "      <td>Normal</td>\n",
       "      <td>Weak</td>\n",
       "      <td>Yes</td>\n",
       "    </tr>\n",
       "    <tr>\n",
       "      <th>9</th>\n",
       "      <td>Rain</td>\n",
       "      <td>Mild</td>\n",
       "      <td>Normal</td>\n",
       "      <td>Weak</td>\n",
       "      <td>Yes</td>\n",
       "    </tr>\n",
       "    <tr>\n",
       "      <th>10</th>\n",
       "      <td>Sunny</td>\n",
       "      <td>Mild</td>\n",
       "      <td>Normal</td>\n",
       "      <td>Strong</td>\n",
       "      <td>Yes</td>\n",
       "    </tr>\n",
       "    <tr>\n",
       "      <th>11</th>\n",
       "      <td>Overcast</td>\n",
       "      <td>Mild</td>\n",
       "      <td>High</td>\n",
       "      <td>Strong</td>\n",
       "      <td>Yes</td>\n",
       "    </tr>\n",
       "    <tr>\n",
       "      <th>12</th>\n",
       "      <td>Overcast</td>\n",
       "      <td>Hot</td>\n",
       "      <td>Normal</td>\n",
       "      <td>Weak</td>\n",
       "      <td>Yes</td>\n",
       "    </tr>\n",
       "    <tr>\n",
       "      <th>13</th>\n",
       "      <td>Rain</td>\n",
       "      <td>Hot</td>\n",
       "      <td>High</td>\n",
       "      <td>Strong</td>\n",
       "      <td>No</td>\n",
       "    </tr>\n",
       "  </tbody>\n",
       "</table>\n",
       "</div>"
      ]
     },
     "execution_count": 5,
     "metadata": {},
     "output_type": "execute_result"
    }
   ],
   "execution_count": 5
  },
  {
   "cell_type": "code",
   "id": "882c21f3-b9fd-4e14-a8f5-ac1770813f59",
   "metadata": {
    "collapsed": true,
    "id": "882c21f3-b9fd-4e14-a8f5-ac1770813f59",
    "ExecuteTime": {
     "end_time": "2025-10-14T14:12:03.278425Z",
     "start_time": "2025-10-14T14:12:03.258660Z"
    }
   },
   "source": [
    "data.columns = ['outlook', 'temperature', 'humidity', 'wind', 'play']\n",
    "data"
   ],
   "outputs": [
    {
     "data": {
      "text/plain": [
       "     outlook temperature humidity    wind play\n",
       "0      Sunny         Hot     High    Weak   No\n",
       "1      Sunny         Hot     High  Strong   No\n",
       "2   Overcast         Hot     High    Weak  Yes\n",
       "3       Rain        Mild     High    Weak  Yes\n",
       "4       Rain        Cool   Normal    Weak  Yes\n",
       "5       Rain        Cool   Normal  Strong   No\n",
       "6   Overcast        Cool   Normal  Strong  Yes\n",
       "7      Sunny        Mild     High    Weak   No\n",
       "8      Sunny        Cool   Normal    Weak  Yes\n",
       "9       Rain        Mild   Normal    Weak  Yes\n",
       "10     Sunny        Mild   Normal  Strong  Yes\n",
       "11  Overcast        Mild     High  Strong  Yes\n",
       "12  Overcast         Hot   Normal    Weak  Yes\n",
       "13      Rain         Hot     High  Strong   No"
      ],
      "text/html": [
       "<div>\n",
       "<style scoped>\n",
       "    .dataframe tbody tr th:only-of-type {\n",
       "        vertical-align: middle;\n",
       "    }\n",
       "\n",
       "    .dataframe tbody tr th {\n",
       "        vertical-align: top;\n",
       "    }\n",
       "\n",
       "    .dataframe thead th {\n",
       "        text-align: right;\n",
       "    }\n",
       "</style>\n",
       "<table border=\"1\" class=\"dataframe\">\n",
       "  <thead>\n",
       "    <tr style=\"text-align: right;\">\n",
       "      <th></th>\n",
       "      <th>outlook</th>\n",
       "      <th>temperature</th>\n",
       "      <th>humidity</th>\n",
       "      <th>wind</th>\n",
       "      <th>play</th>\n",
       "    </tr>\n",
       "  </thead>\n",
       "  <tbody>\n",
       "    <tr>\n",
       "      <th>0</th>\n",
       "      <td>Sunny</td>\n",
       "      <td>Hot</td>\n",
       "      <td>High</td>\n",
       "      <td>Weak</td>\n",
       "      <td>No</td>\n",
       "    </tr>\n",
       "    <tr>\n",
       "      <th>1</th>\n",
       "      <td>Sunny</td>\n",
       "      <td>Hot</td>\n",
       "      <td>High</td>\n",
       "      <td>Strong</td>\n",
       "      <td>No</td>\n",
       "    </tr>\n",
       "    <tr>\n",
       "      <th>2</th>\n",
       "      <td>Overcast</td>\n",
       "      <td>Hot</td>\n",
       "      <td>High</td>\n",
       "      <td>Weak</td>\n",
       "      <td>Yes</td>\n",
       "    </tr>\n",
       "    <tr>\n",
       "      <th>3</th>\n",
       "      <td>Rain</td>\n",
       "      <td>Mild</td>\n",
       "      <td>High</td>\n",
       "      <td>Weak</td>\n",
       "      <td>Yes</td>\n",
       "    </tr>\n",
       "    <tr>\n",
       "      <th>4</th>\n",
       "      <td>Rain</td>\n",
       "      <td>Cool</td>\n",
       "      <td>Normal</td>\n",
       "      <td>Weak</td>\n",
       "      <td>Yes</td>\n",
       "    </tr>\n",
       "    <tr>\n",
       "      <th>5</th>\n",
       "      <td>Rain</td>\n",
       "      <td>Cool</td>\n",
       "      <td>Normal</td>\n",
       "      <td>Strong</td>\n",
       "      <td>No</td>\n",
       "    </tr>\n",
       "    <tr>\n",
       "      <th>6</th>\n",
       "      <td>Overcast</td>\n",
       "      <td>Cool</td>\n",
       "      <td>Normal</td>\n",
       "      <td>Strong</td>\n",
       "      <td>Yes</td>\n",
       "    </tr>\n",
       "    <tr>\n",
       "      <th>7</th>\n",
       "      <td>Sunny</td>\n",
       "      <td>Mild</td>\n",
       "      <td>High</td>\n",
       "      <td>Weak</td>\n",
       "      <td>No</td>\n",
       "    </tr>\n",
       "    <tr>\n",
       "      <th>8</th>\n",
       "      <td>Sunny</td>\n",
       "      <td>Cool</td>\n",
       "      <td>Normal</td>\n",
       "      <td>Weak</td>\n",
       "      <td>Yes</td>\n",
       "    </tr>\n",
       "    <tr>\n",
       "      <th>9</th>\n",
       "      <td>Rain</td>\n",
       "      <td>Mild</td>\n",
       "      <td>Normal</td>\n",
       "      <td>Weak</td>\n",
       "      <td>Yes</td>\n",
       "    </tr>\n",
       "    <tr>\n",
       "      <th>10</th>\n",
       "      <td>Sunny</td>\n",
       "      <td>Mild</td>\n",
       "      <td>Normal</td>\n",
       "      <td>Strong</td>\n",
       "      <td>Yes</td>\n",
       "    </tr>\n",
       "    <tr>\n",
       "      <th>11</th>\n",
       "      <td>Overcast</td>\n",
       "      <td>Mild</td>\n",
       "      <td>High</td>\n",
       "      <td>Strong</td>\n",
       "      <td>Yes</td>\n",
       "    </tr>\n",
       "    <tr>\n",
       "      <th>12</th>\n",
       "      <td>Overcast</td>\n",
       "      <td>Hot</td>\n",
       "      <td>Normal</td>\n",
       "      <td>Weak</td>\n",
       "      <td>Yes</td>\n",
       "    </tr>\n",
       "    <tr>\n",
       "      <th>13</th>\n",
       "      <td>Rain</td>\n",
       "      <td>Hot</td>\n",
       "      <td>High</td>\n",
       "      <td>Strong</td>\n",
       "      <td>No</td>\n",
       "    </tr>\n",
       "  </tbody>\n",
       "</table>\n",
       "</div>"
      ]
     },
     "execution_count": 6,
     "metadata": {},
     "output_type": "execute_result"
    }
   ],
   "execution_count": 6
  },
  {
   "cell_type": "markdown",
   "id": "8ca791b4-a4b3-4caf-b6c2-79eddbe44160",
   "metadata": {
    "tags": [],
    "id": "8ca791b4-a4b3-4caf-b6c2-79eddbe44160"
   },
   "source": [
    "### Model"
   ]
  },
  {
   "cell_type": "markdown",
   "id": "be9d912c-884c-4fa9-a9a2-589934194bc2",
   "metadata": {
    "jp-MarkdownHeadingCollapsed": true,
    "tags": [],
    "id": "be9d912c-884c-4fa9-a9a2-589934194bc2"
   },
   "source": [
    "####  Entropy"
   ]
  },
  {
   "cell_type": "markdown",
   "id": "e7f2f473-bc11-47ef-a1a6-d44b8a0d4673",
   "metadata": {
    "id": "e7f2f473-bc11-47ef-a1a6-d44b8a0d4673"
   },
   "source": [
    "\\begin{align}\n",
    "\\text{Entropy}(Y) = -\\sum_{i=1}^{C} p_i \\log_2(p_i)\n",
    "\\end{align}"
   ]
  },
  {
   "cell_type": "code",
   "id": "58eb76ca-47d1-47c7-8640-028f311d9e16",
   "metadata": {
    "id": "58eb76ca-47d1-47c7-8640-028f311d9e16",
    "ExecuteTime": {
     "end_time": "2025-10-14T14:25:07.428814Z",
     "start_time": "2025-10-14T14:25:07.395317Z"
    }
   },
   "source": [
    "labels = data['play']\n",
    "len(labels), labels.unique(), labels.value_counts()\n",
    "p = labels.value_counts() / len(labels)\n",
    "-sum(p * np.log2(p))"
   ],
   "outputs": [
    {
     "data": {
      "text/plain": [
       "0.9402859586706311"
      ]
     },
     "execution_count": 7,
     "metadata": {},
     "output_type": "execute_result"
    }
   ],
   "execution_count": 7
  },
  {
   "cell_type": "code",
   "source": [
    "# TODO: Implement entropy(labels) -> float\n",
    "def entropy(labels):\n",
    "    \"\"\"\n",
    "    Compute entropy H(Y) for a Pandas Series of labels.\n",
    "    HINT: use value_counts(normalize=True) and -sum(p*log2(p))\n",
    "    \"\"\"\n",
    "    # TODO begin\n",
    "    p = labels.value_counts() / len(labels)                           #(2)\n",
    "    return -sum(p * np.log2(p))                                    #(3)\n",
    "    # TODO end\n",
    "\n",
    "# quick check\n",
    "entropy(data['play'])"
   ],
   "metadata": {
    "id": "B7i1UyTHqu2q",
    "ExecuteTime": {
     "end_time": "2025-10-14T14:29:44.620878Z",
     "start_time": "2025-10-14T14:29:44.609555Z"
    }
   },
   "id": "B7i1UyTHqu2q",
   "outputs": [
    {
     "data": {
      "text/plain": [
       "0.9402859586706311"
      ]
     },
     "execution_count": 8,
     "metadata": {},
     "output_type": "execute_result"
    }
   ],
   "execution_count": 8
  },
  {
   "cell_type": "markdown",
   "id": "0987206b-fd0d-4235-9a7a-e90e6b84562b",
   "metadata": {
    "jp-MarkdownHeadingCollapsed": true,
    "tags": [],
    "id": "0987206b-fd0d-4235-9a7a-e90e6b84562b"
   },
   "source": [
    "####  Information Gain: now you have to calculate IG for all features"
   ]
  },
  {
   "cell_type": "markdown",
   "id": "8bcea635-966d-4a5d-8af0-db33b086b0cc",
   "metadata": {
    "id": "8bcea635-966d-4a5d-8af0-db33b086b0cc"
   },
   "source": [
    "\\begin{align}\n",
    "\\text{Information Gain}(\\text{Feature}) = \\text{Entropy}(\\text{Parent}) - \\sum_{\\text{value} \\in \\text{Feature}} \\frac{|\\text{Subset with value}|}{|\\text{Parent}|} \\times \\text{Entropy}(\\text{Subset with value})\n",
    "\\end{align}"
   ]
  },
  {
   "cell_type": "code",
   "id": "ef7257c6-d941-461f-98f0-1b31c4a026c3",
   "metadata": {
    "id": "ef7257c6-d941-461f-98f0-1b31c4a026c3",
    "outputId": "b1acdadf-f1c3-4366-f2dd-c78ccdb1c6f1",
    "ExecuteTime": {
     "end_time": "2025-10-14T14:36:51.625276Z",
     "start_time": "2025-10-14T14:36:51.542867Z"
    }
   },
   "source": [
    "target = 'play'\n",
    "entropy_parent = entropy(data[target])\n",
    "entropy_parent\n",
    "\n",
    "entropy_child = 0\n",
    "feature = 'wind'\n",
    "for value in data[feature].unique():\n",
    "    subset = data[data[feature] == value]\n",
    "    display(subset)\n",
    "    wi = len(subset) / len(data)\n",
    "    entropy_child += wi * entropy(subset[target])\n",
    "information_gain = entropy_parent - entropy_child\n",
    "\n",
    "print(information_gain)"
   ],
   "outputs": [
    {
     "data": {
      "text/plain": [
       "     outlook temperature humidity  wind play\n",
       "0      Sunny         Hot     High  Weak   No\n",
       "2   Overcast         Hot     High  Weak  Yes\n",
       "3       Rain        Mild     High  Weak  Yes\n",
       "4       Rain        Cool   Normal  Weak  Yes\n",
       "7      Sunny        Mild     High  Weak   No\n",
       "8      Sunny        Cool   Normal  Weak  Yes\n",
       "9       Rain        Mild   Normal  Weak  Yes\n",
       "12  Overcast         Hot   Normal  Weak  Yes"
      ],
      "text/html": [
       "<div>\n",
       "<style scoped>\n",
       "    .dataframe tbody tr th:only-of-type {\n",
       "        vertical-align: middle;\n",
       "    }\n",
       "\n",
       "    .dataframe tbody tr th {\n",
       "        vertical-align: top;\n",
       "    }\n",
       "\n",
       "    .dataframe thead th {\n",
       "        text-align: right;\n",
       "    }\n",
       "</style>\n",
       "<table border=\"1\" class=\"dataframe\">\n",
       "  <thead>\n",
       "    <tr style=\"text-align: right;\">\n",
       "      <th></th>\n",
       "      <th>outlook</th>\n",
       "      <th>temperature</th>\n",
       "      <th>humidity</th>\n",
       "      <th>wind</th>\n",
       "      <th>play</th>\n",
       "    </tr>\n",
       "  </thead>\n",
       "  <tbody>\n",
       "    <tr>\n",
       "      <th>0</th>\n",
       "      <td>Sunny</td>\n",
       "      <td>Hot</td>\n",
       "      <td>High</td>\n",
       "      <td>Weak</td>\n",
       "      <td>No</td>\n",
       "    </tr>\n",
       "    <tr>\n",
       "      <th>2</th>\n",
       "      <td>Overcast</td>\n",
       "      <td>Hot</td>\n",
       "      <td>High</td>\n",
       "      <td>Weak</td>\n",
       "      <td>Yes</td>\n",
       "    </tr>\n",
       "    <tr>\n",
       "      <th>3</th>\n",
       "      <td>Rain</td>\n",
       "      <td>Mild</td>\n",
       "      <td>High</td>\n",
       "      <td>Weak</td>\n",
       "      <td>Yes</td>\n",
       "    </tr>\n",
       "    <tr>\n",
       "      <th>4</th>\n",
       "      <td>Rain</td>\n",
       "      <td>Cool</td>\n",
       "      <td>Normal</td>\n",
       "      <td>Weak</td>\n",
       "      <td>Yes</td>\n",
       "    </tr>\n",
       "    <tr>\n",
       "      <th>7</th>\n",
       "      <td>Sunny</td>\n",
       "      <td>Mild</td>\n",
       "      <td>High</td>\n",
       "      <td>Weak</td>\n",
       "      <td>No</td>\n",
       "    </tr>\n",
       "    <tr>\n",
       "      <th>8</th>\n",
       "      <td>Sunny</td>\n",
       "      <td>Cool</td>\n",
       "      <td>Normal</td>\n",
       "      <td>Weak</td>\n",
       "      <td>Yes</td>\n",
       "    </tr>\n",
       "    <tr>\n",
       "      <th>9</th>\n",
       "      <td>Rain</td>\n",
       "      <td>Mild</td>\n",
       "      <td>Normal</td>\n",
       "      <td>Weak</td>\n",
       "      <td>Yes</td>\n",
       "    </tr>\n",
       "    <tr>\n",
       "      <th>12</th>\n",
       "      <td>Overcast</td>\n",
       "      <td>Hot</td>\n",
       "      <td>Normal</td>\n",
       "      <td>Weak</td>\n",
       "      <td>Yes</td>\n",
       "    </tr>\n",
       "  </tbody>\n",
       "</table>\n",
       "</div>"
      ]
     },
     "metadata": {},
     "output_type": "display_data"
    },
    {
     "data": {
      "text/plain": [
       "     outlook temperature humidity    wind play\n",
       "1      Sunny         Hot     High  Strong   No\n",
       "5       Rain        Cool   Normal  Strong   No\n",
       "6   Overcast        Cool   Normal  Strong  Yes\n",
       "10     Sunny        Mild   Normal  Strong  Yes\n",
       "11  Overcast        Mild     High  Strong  Yes\n",
       "13      Rain         Hot     High  Strong   No"
      ],
      "text/html": [
       "<div>\n",
       "<style scoped>\n",
       "    .dataframe tbody tr th:only-of-type {\n",
       "        vertical-align: middle;\n",
       "    }\n",
       "\n",
       "    .dataframe tbody tr th {\n",
       "        vertical-align: top;\n",
       "    }\n",
       "\n",
       "    .dataframe thead th {\n",
       "        text-align: right;\n",
       "    }\n",
       "</style>\n",
       "<table border=\"1\" class=\"dataframe\">\n",
       "  <thead>\n",
       "    <tr style=\"text-align: right;\">\n",
       "      <th></th>\n",
       "      <th>outlook</th>\n",
       "      <th>temperature</th>\n",
       "      <th>humidity</th>\n",
       "      <th>wind</th>\n",
       "      <th>play</th>\n",
       "    </tr>\n",
       "  </thead>\n",
       "  <tbody>\n",
       "    <tr>\n",
       "      <th>1</th>\n",
       "      <td>Sunny</td>\n",
       "      <td>Hot</td>\n",
       "      <td>High</td>\n",
       "      <td>Strong</td>\n",
       "      <td>No</td>\n",
       "    </tr>\n",
       "    <tr>\n",
       "      <th>5</th>\n",
       "      <td>Rain</td>\n",
       "      <td>Cool</td>\n",
       "      <td>Normal</td>\n",
       "      <td>Strong</td>\n",
       "      <td>No</td>\n",
       "    </tr>\n",
       "    <tr>\n",
       "      <th>6</th>\n",
       "      <td>Overcast</td>\n",
       "      <td>Cool</td>\n",
       "      <td>Normal</td>\n",
       "      <td>Strong</td>\n",
       "      <td>Yes</td>\n",
       "    </tr>\n",
       "    <tr>\n",
       "      <th>10</th>\n",
       "      <td>Sunny</td>\n",
       "      <td>Mild</td>\n",
       "      <td>Normal</td>\n",
       "      <td>Strong</td>\n",
       "      <td>Yes</td>\n",
       "    </tr>\n",
       "    <tr>\n",
       "      <th>11</th>\n",
       "      <td>Overcast</td>\n",
       "      <td>Mild</td>\n",
       "      <td>High</td>\n",
       "      <td>Strong</td>\n",
       "      <td>Yes</td>\n",
       "    </tr>\n",
       "    <tr>\n",
       "      <th>13</th>\n",
       "      <td>Rain</td>\n",
       "      <td>Hot</td>\n",
       "      <td>High</td>\n",
       "      <td>Strong</td>\n",
       "      <td>No</td>\n",
       "    </tr>\n",
       "  </tbody>\n",
       "</table>\n",
       "</div>"
      ]
     },
     "metadata": {},
     "output_type": "display_data"
    },
    {
     "name": "stdout",
     "output_type": "stream",
     "text": [
      "0.04812703040826949\n"
     ]
    }
   ],
   "execution_count": 10
  },
  {
   "cell_type": "code",
   "source": [
    "# TODO: Implement information_gain(data, feature, target) -> float\n",
    "\n",
    "def information_gain(data, feature, target):\n",
    "    \"\"\"\n",
    "    IG = H(parent) - sum_v (|Dv|/|D|)*H(Dv)\n",
    "    \"\"\"\n",
    "    # TODO begin\n",
    "    # Entropy of parent\n",
    "    entropy_parent = entropy(data[target])                        #(4)\n",
    "\n",
    "    # Entropy of child\n",
    "    entropy_child = 0.0\n",
    "    for value in data[feature].unique():\n",
    "        subset = data[data[feature] == value]                        #(5)\n",
    "        wi = len(subset) / len(data)                                 #(6)\n",
    "        entropy_child += wi * entropy(subset[target])\n",
    "    return entropy_parent - entropy_child\n",
    "    # TODO end"
   ],
   "metadata": {
    "id": "q9dnAZrLr70h",
    "ExecuteTime": {
     "end_time": "2025-10-14T14:38:12.185722Z",
     "start_time": "2025-10-14T14:38:12.178987Z"
    }
   },
   "id": "q9dnAZrLr70h",
   "outputs": [],
   "execution_count": 11
  },
  {
   "cell_type": "markdown",
   "source": [
    "<font color='#GG15D'>**Question1:**</font> <font color='#EE15D'>: Now, you should calculate IG for all features and say which one is more important**"
   ],
   "metadata": {
    "id": "KPgcvmkztebp"
   },
   "id": "KPgcvmkztebp"
  },
  {
   "cell_type": "code",
   "source": [
    "for feature in data:\n",
    "    for feature_2 in data:\n",
    "        if feature_2 == feature: continue\n",
    "        print(f\"Information gain for {feature} and {feature_2} is: {information_gain(data, feature, feature_2)}\")\n",
    "\n"
   ],
   "metadata": {
    "id": "EWQAfswOstji",
    "ExecuteTime": {
     "end_time": "2025-10-14T14:49:50.733627Z",
     "start_time": "2025-10-14T14:49:50.644157Z"
    }
   },
   "id": "EWQAfswOstji",
   "outputs": [
    {
     "name": "stdout",
     "output_type": "stream",
     "text": [
      "Information gain for outlook and temperature is: 0.06174335793280106\n",
      "Information gain for outlook and humidity is: 0.02074957538952249\n",
      "Information gain for outlook and wind is: 0.0059777114237740125\n",
      "Information gain for outlook and play is: 0.24674981977443933\n",
      "Information gain for temperature and outlook is: 0.06174335793280106\n",
      "Information gain for temperature and humidity is: 0.3954004680921318\n",
      "Information gain for temperature and wind is: 0.0059777114237740125\n",
      "Information gain for temperature and play is: 0.10389267691729642\n",
      "Information gain for humidity and outlook is: 0.0207495753895226\n",
      "Information gain for humidity and temperature is: 0.3954004680921319\n",
      "Information gain for humidity and wind is: 0.0\n",
      "Information gain for humidity and play is: 0.15183550136234159\n",
      "Information gain for wind and outlook is: 0.0059777114237740125\n",
      "Information gain for wind and temperature is: 0.0059777114237740125\n",
      "Information gain for wind and humidity is: 0.0\n",
      "Information gain for wind and play is: 0.04812703040826949\n",
      "Information gain for play and outlook is: 0.24674981977443933\n",
      "Information gain for play and temperature is: 0.10389267691729631\n",
      "Information gain for play and humidity is: 0.15183550136234147\n",
      "Information gain for play and wind is: 0.04812703040826938\n"
     ]
    }
   ],
   "execution_count": 18
  },
  {
   "cell_type": "markdown",
   "source": [
    "<font color='#GG15D'>**Question1:**</font> <font color='#EE15D'> Answer:\n",
    "The most important information gain seems to be from temperature and humidity with an information gain of: 0.3954"
   ],
   "metadata": {
    "id": "mkOFlLzHJh0p"
   },
   "id": "mkOFlLzHJh0p"
  },
  {
   "cell_type": "markdown",
   "id": "606c932e-34e8-4584-95b1-f5d268b23361",
   "metadata": {
    "jp-MarkdownHeadingCollapsed": true,
    "tags": [],
    "id": "606c932e-34e8-4584-95b1-f5d268b23361"
   },
   "source": [
    "####  Decision Tree & Node"
   ]
  },
  {
   "cell_type": "markdown",
   "source": [
    "Based on the following images, you need a Node class and a make_tree function. The Node class is already written, and you are expected to fill in the make_tree function"
   ],
   "metadata": {
    "id": "XBBG_kzM0ZCF"
   },
   "id": "XBBG_kzM0ZCF"
  },
  {
   "cell_type": "code",
   "source": [
    "import os, base64\n",
    "from IPython.display import HTML, display\n",
    "\n",
    "def embed_image(path, width=200):\n",
    "    assert os.path.exists(path), f\"Not found: {path}\"\n",
    "    with open(path, \"rb\") as f:\n",
    "        b64 = base64.b64encode(f.read()).decode(\"ascii\")\n",
    "    return f'<img src=\"data:image/png;base64,{b64}\" width=\"{width}\"/>'\n",
    "\n",
    "def show_images(paths, width=200, gap=10):\n",
    "    imgs = \"\".join(embed_image(p, width) for p in paths)\n",
    "    html = f'<div style=\"display:flex; gap:{gap}px;\">{imgs}</div>'\n",
    "    display(HTML(html))\n",
    "\n",
    "show_images(\n",
    "    [\"/content/decision-tree.png\", \"/content/node.png\"],\n",
    "    width=500,\n",
    "    gap=15\n",
    ")\n"
   ],
   "metadata": {
    "colab": {
     "base_uri": "https://localhost:8080/",
     "height": 263
    },
    "id": "cU_nLlEyjWz2",
    "outputId": "50ace16d-a0d8-454a-ea21-05dfcb5b4734",
    "ExecuteTime": {
     "end_time": "2025-10-15T08:37:18.643745Z",
     "start_time": "2025-10-15T08:37:17.929404Z"
    }
   },
   "id": "cU_nLlEyjWz2",
   "outputs": [
    {
     "ename": "AssertionError",
     "evalue": "Not found: /content/decision-tree.png",
     "output_type": "error",
     "traceback": [
      "\u001B[31m---------------------------------------------------------------------------\u001B[39m",
      "\u001B[31mAssertionError\u001B[39m                            Traceback (most recent call last)",
      "\u001B[36mCell\u001B[39m\u001B[36m \u001B[39m\u001B[32mIn[19]\u001B[39m\u001B[32m, line 15\u001B[39m\n\u001B[32m     12\u001B[39m     html = \u001B[33mf\u001B[39m\u001B[33m'\u001B[39m\u001B[33m<div style=\u001B[39m\u001B[33m\"\u001B[39m\u001B[33mdisplay:flex; gap:\u001B[39m\u001B[38;5;132;01m{\u001B[39;00mgap\u001B[38;5;132;01m}\u001B[39;00m\u001B[33mpx;\u001B[39m\u001B[33m\"\u001B[39m\u001B[33m>\u001B[39m\u001B[38;5;132;01m{\u001B[39;00mimgs\u001B[38;5;132;01m}\u001B[39;00m\u001B[33m</div>\u001B[39m\u001B[33m'\u001B[39m\n\u001B[32m     13\u001B[39m     display(HTML(html))\n\u001B[32m---> \u001B[39m\u001B[32m15\u001B[39m \u001B[43mshow_images\u001B[49m\u001B[43m(\u001B[49m\n\u001B[32m     16\u001B[39m \u001B[43m    \u001B[49m\u001B[43m[\u001B[49m\u001B[33;43m\"\u001B[39;49m\u001B[33;43m/content/decision-tree.png\u001B[39;49m\u001B[33;43m\"\u001B[39;49m\u001B[43m,\u001B[49m\u001B[43m \u001B[49m\u001B[33;43m\"\u001B[39;49m\u001B[33;43m/content/node.png\u001B[39;49m\u001B[33;43m\"\u001B[39;49m\u001B[43m]\u001B[49m\u001B[43m,\u001B[49m\n\u001B[32m     17\u001B[39m \u001B[43m    \u001B[49m\u001B[43mwidth\u001B[49m\u001B[43m=\u001B[49m\u001B[32;43m500\u001B[39;49m\u001B[43m,\u001B[49m\n\u001B[32m     18\u001B[39m \u001B[43m    \u001B[49m\u001B[43mgap\u001B[49m\u001B[43m=\u001B[49m\u001B[32;43m15\u001B[39;49m\n\u001B[32m     19\u001B[39m \u001B[43m)\u001B[49m\n",
      "\u001B[36mCell\u001B[39m\u001B[36m \u001B[39m\u001B[32mIn[19]\u001B[39m\u001B[32m, line 11\u001B[39m, in \u001B[36mshow_images\u001B[39m\u001B[34m(paths, width, gap)\u001B[39m\n\u001B[32m     10\u001B[39m \u001B[38;5;28;01mdef\u001B[39;00m\u001B[38;5;250m \u001B[39m\u001B[34mshow_images\u001B[39m(paths, width=\u001B[32m200\u001B[39m, gap=\u001B[32m10\u001B[39m):\n\u001B[32m---> \u001B[39m\u001B[32m11\u001B[39m     imgs = \u001B[33;43m\"\u001B[39;49m\u001B[33;43m\"\u001B[39;49m\u001B[43m.\u001B[49m\u001B[43mjoin\u001B[49m\u001B[43m(\u001B[49m\u001B[43membed_image\u001B[49m\u001B[43m(\u001B[49m\u001B[43mp\u001B[49m\u001B[43m,\u001B[49m\u001B[43m \u001B[49m\u001B[43mwidth\u001B[49m\u001B[43m)\u001B[49m\u001B[43m \u001B[49m\u001B[38;5;28;43;01mfor\u001B[39;49;00m\u001B[43m \u001B[49m\u001B[43mp\u001B[49m\u001B[43m \u001B[49m\u001B[38;5;129;43;01min\u001B[39;49;00m\u001B[43m \u001B[49m\u001B[43mpaths\u001B[49m\u001B[43m)\u001B[49m\n\u001B[32m     12\u001B[39m     html = \u001B[33mf\u001B[39m\u001B[33m'\u001B[39m\u001B[33m<div style=\u001B[39m\u001B[33m\"\u001B[39m\u001B[33mdisplay:flex; gap:\u001B[39m\u001B[38;5;132;01m{\u001B[39;00mgap\u001B[38;5;132;01m}\u001B[39;00m\u001B[33mpx;\u001B[39m\u001B[33m\"\u001B[39m\u001B[33m>\u001B[39m\u001B[38;5;132;01m{\u001B[39;00mimgs\u001B[38;5;132;01m}\u001B[39;00m\u001B[33m</div>\u001B[39m\u001B[33m'\u001B[39m\n\u001B[32m     13\u001B[39m     display(HTML(html))\n",
      "\u001B[36mCell\u001B[39m\u001B[36m \u001B[39m\u001B[32mIn[19]\u001B[39m\u001B[32m, line 11\u001B[39m, in \u001B[36m<genexpr>\u001B[39m\u001B[34m(.0)\u001B[39m\n\u001B[32m     10\u001B[39m \u001B[38;5;28;01mdef\u001B[39;00m\u001B[38;5;250m \u001B[39m\u001B[34mshow_images\u001B[39m(paths, width=\u001B[32m200\u001B[39m, gap=\u001B[32m10\u001B[39m):\n\u001B[32m---> \u001B[39m\u001B[32m11\u001B[39m     imgs = \u001B[33m\"\u001B[39m\u001B[33m\"\u001B[39m.join(\u001B[43membed_image\u001B[49m\u001B[43m(\u001B[49m\u001B[43mp\u001B[49m\u001B[43m,\u001B[49m\u001B[43m \u001B[49m\u001B[43mwidth\u001B[49m\u001B[43m)\u001B[49m \u001B[38;5;28;01mfor\u001B[39;00m p \u001B[38;5;129;01min\u001B[39;00m paths)\n\u001B[32m     12\u001B[39m     html = \u001B[33mf\u001B[39m\u001B[33m'\u001B[39m\u001B[33m<div style=\u001B[39m\u001B[33m\"\u001B[39m\u001B[33mdisplay:flex; gap:\u001B[39m\u001B[38;5;132;01m{\u001B[39;00mgap\u001B[38;5;132;01m}\u001B[39;00m\u001B[33mpx;\u001B[39m\u001B[33m\"\u001B[39m\u001B[33m>\u001B[39m\u001B[38;5;132;01m{\u001B[39;00mimgs\u001B[38;5;132;01m}\u001B[39;00m\u001B[33m</div>\u001B[39m\u001B[33m'\u001B[39m\n\u001B[32m     13\u001B[39m     display(HTML(html))\n",
      "\u001B[36mCell\u001B[39m\u001B[36m \u001B[39m\u001B[32mIn[19]\u001B[39m\u001B[32m, line 5\u001B[39m, in \u001B[36membed_image\u001B[39m\u001B[34m(path, width)\u001B[39m\n\u001B[32m      4\u001B[39m \u001B[38;5;28;01mdef\u001B[39;00m\u001B[38;5;250m \u001B[39m\u001B[34membed_image\u001B[39m(path, width=\u001B[32m200\u001B[39m):\n\u001B[32m----> \u001B[39m\u001B[32m5\u001B[39m     \u001B[38;5;28;01massert\u001B[39;00m os.path.exists(path), \u001B[33mf\u001B[39m\u001B[33m\"\u001B[39m\u001B[33mNot found: \u001B[39m\u001B[38;5;132;01m{\u001B[39;00mpath\u001B[38;5;132;01m}\u001B[39;00m\u001B[33m\"\u001B[39m\n\u001B[32m      6\u001B[39m     \u001B[38;5;28;01mwith\u001B[39;00m \u001B[38;5;28mopen\u001B[39m(path, \u001B[33m\"\u001B[39m\u001B[33mrb\u001B[39m\u001B[33m\"\u001B[39m) \u001B[38;5;28;01mas\u001B[39;00m f:\n\u001B[32m      7\u001B[39m         b64 = base64.b64encode(f.read()).decode(\u001B[33m\"\u001B[39m\u001B[33mascii\u001B[39m\u001B[33m\"\u001B[39m)\n",
      "\u001B[31mAssertionError\u001B[39m: Not found: /content/decision-tree.png"
     ]
    }
   ],
   "execution_count": 19
  },
  {
   "cell_type": "code",
   "id": "1265600f-0549-4eff-8d92-aac848a03de8",
   "metadata": {
    "tags": [],
    "id": "1265600f-0549-4eff-8d92-aac848a03de8",
    "outputId": "a0d25b07-944a-4842-f780-e3bc03faea38",
    "ExecuteTime": {
     "end_time": "2025-10-15T09:00:13.523941Z",
     "start_time": "2025-10-15T09:00:13.501985Z"
    }
   },
   "source": [
    "class Node:\n",
    "\n",
    "    def __init__(self, feature=None, label=None):\n",
    "        self.feature = feature\n",
    "        self.label = label\n",
    "        self.children = {}\n",
    "\n",
    "    def __repr__(self):\n",
    "        if self.feature is not None:\n",
    "            return f'DecisionNode(feature=\"{self.feature}\", children={self.children})'\n",
    "        else:\n",
    "            return f'LeafNode(label=\"{self.label}\")'\n",
    "\n",
    "Node(feature='wind')\n",
    "Node(label='yes')"
   ],
   "outputs": [
    {
     "data": {
      "text/plain": [
       "LeafNode(label=\"yes\")"
      ]
     },
     "execution_count": 22,
     "metadata": {},
     "output_type": "execute_result"
    }
   ],
   "execution_count": 22
  },
  {
   "cell_type": "markdown",
   "source": [
    "<font color='#EE15D'>**Fill out make_tree function**"
   ],
   "metadata": {
    "id": "u3v4fua-u07D"
   },
   "id": "u3v4fua-u07D"
  },
  {
   "cell_type": "code",
   "source": [
    "# TODO: Implement make_tree(data, target) -> Node\n",
    "def make_tree(data, target):\n",
    "    \"\"\"\n",
    "    Recursively build an ID3 tree.\n",
    "    Base cases:\n",
    "      - if all labels same -> leaf(label)\n",
    "      - if no features left -> leaf(majority class)\n",
    "    Otherwise:\n",
    "      - choose feature with max IG\n",
    "      - for each value of that feature, build subtree on the subset (drop that feature)\n",
    "    \"\"\"\n",
    "    # TODO begin\n",
    "    # leaf node?\n",
    "    if len(data[target].unique()) == 1:\n",
    "        return Node(label=data[target].iloc[0])\n",
    "\n",
    "    features = data.drop(target, axis=1).columns\n",
    "    if len(features) == 0 or len(data) == 0:\n",
    "        return Node(label=data[target].mode()[0])\n",
    "\n",
    "    # calculate information gain\n",
    "    gains = [information_gain(data,feature,target) for feature in features]                   #(7)\n",
    "\n",
    "    # greedy search to find best feature\n",
    "    max_gain_idx = np.argmax(gains)\n",
    "    best_feature = features[max_gain_idx]                                                      #(8)\n",
    "\n",
    "    # make a node\n",
    "    node = Node(feature=best_feature)\n",
    "\n",
    "    # loop over the best feature\n",
    "    for value in data[best_feature].unique():                                                       #(9)\n",
    "        subset = data[data[best_feature] == value].drop(best_feature, axis=1)                         #(10)\n",
    "        node.children[value] = make_tree(subset, target)\n",
    "\n",
    "    return node\n",
    "    # TODO end"
   ],
   "metadata": {
    "id": "uOmmXgWSu6bH",
    "ExecuteTime": {
     "end_time": "2025-10-15T12:50:27.733714Z",
     "start_time": "2025-10-15T12:50:27.643234Z"
    }
   },
   "id": "uOmmXgWSu6bH",
   "outputs": [],
   "execution_count": 23
  },
  {
   "cell_type": "code",
   "source": [
    "tree = make_tree(data, 'play')\n",
    "tree\n",
    "\n",
    "tree.feature"
   ],
   "metadata": {
    "id": "-znJvZfA1hsS",
    "ExecuteTime": {
     "end_time": "2025-10-15T12:50:31.832726Z",
     "start_time": "2025-10-15T12:50:31.446958Z"
    }
   },
   "id": "-znJvZfA1hsS",
   "outputs": [
    {
     "data": {
      "text/plain": [
       "'outlook'"
      ]
     },
     "execution_count": 24,
     "metadata": {},
     "output_type": "execute_result"
    }
   ],
   "execution_count": 24
  },
  {
   "cell_type": "markdown",
   "id": "89c31785-611a-46df-af6f-d33f2da983a9",
   "metadata": {
    "jp-MarkdownHeadingCollapsed": true,
    "tags": [],
    "id": "89c31785-611a-46df-af6f-d33f2da983a9"
   },
   "source": [
    "### Evaluation"
   ]
  },
  {
   "cell_type": "code",
   "id": "f59c3e36-1922-489d-8f0d-ac23b534ebfa",
   "metadata": {
    "id": "f59c3e36-1922-489d-8f0d-ac23b534ebfa",
    "outputId": "838aaa6c-8c9e-49e9-c6ab-4d912935e809",
    "ExecuteTime": {
     "end_time": "2025-10-15T12:52:52.756588Z",
     "start_time": "2025-10-15T12:52:52.690895Z"
    }
   },
   "source": [
    "data_test = pd.read_csv('Lab2-Data/baseball-test.csv')\n",
    "data_test.columns = ['outlook', 'temperature', 'humidity', 'wind', 'play']\n",
    "data_test"
   ],
   "outputs": [
    {
     "data": {
      "text/plain": [
       "    outlook temperature humidity    wind play\n",
       "0  Overcast        Mild     High    Weak  Yes\n",
       "1      Rain        Cool   Normal  Strong   No\n",
       "2     Sunny         Hot   Normal    Weak  Yes"
      ],
      "text/html": [
       "<div>\n",
       "<style scoped>\n",
       "    .dataframe tbody tr th:only-of-type {\n",
       "        vertical-align: middle;\n",
       "    }\n",
       "\n",
       "    .dataframe tbody tr th {\n",
       "        vertical-align: top;\n",
       "    }\n",
       "\n",
       "    .dataframe thead th {\n",
       "        text-align: right;\n",
       "    }\n",
       "</style>\n",
       "<table border=\"1\" class=\"dataframe\">\n",
       "  <thead>\n",
       "    <tr style=\"text-align: right;\">\n",
       "      <th></th>\n",
       "      <th>outlook</th>\n",
       "      <th>temperature</th>\n",
       "      <th>humidity</th>\n",
       "      <th>wind</th>\n",
       "      <th>play</th>\n",
       "    </tr>\n",
       "  </thead>\n",
       "  <tbody>\n",
       "    <tr>\n",
       "      <th>0</th>\n",
       "      <td>Overcast</td>\n",
       "      <td>Mild</td>\n",
       "      <td>High</td>\n",
       "      <td>Weak</td>\n",
       "      <td>Yes</td>\n",
       "    </tr>\n",
       "    <tr>\n",
       "      <th>1</th>\n",
       "      <td>Rain</td>\n",
       "      <td>Cool</td>\n",
       "      <td>Normal</td>\n",
       "      <td>Strong</td>\n",
       "      <td>No</td>\n",
       "    </tr>\n",
       "    <tr>\n",
       "      <th>2</th>\n",
       "      <td>Sunny</td>\n",
       "      <td>Hot</td>\n",
       "      <td>Normal</td>\n",
       "      <td>Weak</td>\n",
       "      <td>Yes</td>\n",
       "    </tr>\n",
       "  </tbody>\n",
       "</table>\n",
       "</div>"
      ]
     },
     "execution_count": 26,
     "metadata": {},
     "output_type": "execute_result"
    }
   ],
   "execution_count": 26
  },
  {
   "cell_type": "code",
   "source": [
    "# TODO : Implement predict(node, sample_dict) -> label\n",
    "def predict(node, sample):\n",
    "    \"\"\"\n",
    "    Predict class for one sample (dict-like).\n",
    "    If unseen branch happens, you may fallback to current node's label (or majority of subtree).\n",
    "    \"\"\"\n",
    "\n",
    "    if node.feature is None:\n",
    "        return node.label                                                        #(11)\n",
    "\n",
    "    feature_value = sample[node.feature]\n",
    "\n",
    "    if feature_value in node.children:\n",
    "        return predict(node.children[feature_value], sample)\n",
    "    else:\n",
    "        # simple fallback: return current node's most frequent descendant label\n",
    "        return node.label                                                           #(12)\n",
    "\n",
    "\n",
    "[predict(tree, sample) for _, sample in data_test.iterrows()]                      #(13)"
   ],
   "metadata": {
    "id": "Xj8fghbX1wQ-",
    "ExecuteTime": {
     "end_time": "2025-10-15T13:04:51.399454Z",
     "start_time": "2025-10-15T13:04:51.385366Z"
    }
   },
   "id": "Xj8fghbX1wQ-",
   "outputs": [
    {
     "data": {
      "text/plain": [
       "['Yes', 'No', 'Yes']"
      ]
     },
     "execution_count": 29,
     "metadata": {},
     "output_type": "execute_result"
    }
   ],
   "execution_count": 29
  },
  {
   "cell_type": "markdown",
   "source": [
    "<font color='#GG15D'>**Question2:**</font> <font color='#EE15D'> Visulize the tree"
   ],
   "metadata": {
    "id": "7J7Q-5XhKQWL"
   },
   "id": "7J7Q-5XhKQWL"
  },
  {
   "cell_type": "markdown",
   "id": "2a296d1a-d333-40cc-acb5-82ede70230bc",
   "metadata": {
    "jp-MarkdownHeadingCollapsed": true,
    "tags": [],
    "id": "2a296d1a-d333-40cc-acb5-82ede70230bc"
   },
   "source": [
    "### Visualization"
   ]
  },
  {
   "cell_type": "code",
   "id": "165e16ce-0f2f-4830-a1cd-456ffa65a229",
   "metadata": {
    "id": "165e16ce-0f2f-4830-a1cd-456ffa65a229",
    "ExecuteTime": {
     "end_time": "2025-10-15T13:07:10.414172Z",
     "start_time": "2025-10-15T13:07:09.317378Z"
    }
   },
   "source": [
    "from graphviz import Digraph, nohtml\n",
    "\n",
    "g = Digraph('g', filename='decision-tree.gv', node_attr={'shape': 'record', 'height': '.1'})\n",
    "\n",
    "def plot_tree(tree, g):\n",
    "    root_node = tree.feature\n",
    "    if root_node is None:\n",
    "        return g\n",
    "    g.node(root_node, nohtml(root_node))\n",
    "    child_nodes = tree.children.keys()\n",
    "    for i, child in enumerate(child_nodes):\n",
    "        node = tree.children[child]\n",
    "        name = node.feature if node.feature is not None else child+node.label\n",
    "        label = node.feature if node.feature is not None else node.label\n",
    "        g.node(name, nohtml(label))\n",
    "        g.edge(root_node, name, label=child)\n",
    "        plot_tree(node, g)\n",
    "    return g\n",
    "\n",
    "g = plot_tree(tree, g)\n",
    "g.render('decision_tree', format='png', view=True)"
   ],
   "outputs": [
    {
     "ename": "ExecutableNotFound",
     "evalue": "failed to execute WindowsPath('dot'), make sure the Graphviz executables are on your systems' PATH",
     "output_type": "error",
     "traceback": [
      "\u001B[31m---------------------------------------------------------------------------\u001B[39m",
      "\u001B[31mFileNotFoundError\u001B[39m                         Traceback (most recent call last)",
      "\u001B[36mFile \u001B[39m\u001B[32m~\\AppData\\Local\\Programs\\Python\\Python313\\Lib\\site-packages\\graphviz\\backend\\execute.py:78\u001B[39m, in \u001B[36mrun_check\u001B[39m\u001B[34m(cmd, input_lines, encoding, quiet, **kwargs)\u001B[39m\n\u001B[32m     77\u001B[39m     \u001B[38;5;28;01melse\u001B[39;00m:\n\u001B[32m---> \u001B[39m\u001B[32m78\u001B[39m         proc = \u001B[43msubprocess\u001B[49m\u001B[43m.\u001B[49m\u001B[43mrun\u001B[49m\u001B[43m(\u001B[49m\u001B[43mcmd\u001B[49m\u001B[43m,\u001B[49m\u001B[43m \u001B[49m\u001B[43m*\u001B[49m\u001B[43m*\u001B[49m\u001B[43mkwargs\u001B[49m\u001B[43m)\u001B[49m\n\u001B[32m     79\u001B[39m \u001B[38;5;28;01mexcept\u001B[39;00m \u001B[38;5;167;01mOSError\u001B[39;00m \u001B[38;5;28;01mas\u001B[39;00m e:\n",
      "\u001B[36mFile \u001B[39m\u001B[32m~\\AppData\\Local\\Programs\\Python\\Python313\\Lib\\subprocess.py:554\u001B[39m, in \u001B[36mrun\u001B[39m\u001B[34m(input, capture_output, timeout, check, *popenargs, **kwargs)\u001B[39m\n\u001B[32m    552\u001B[39m     kwargs[\u001B[33m'\u001B[39m\u001B[33mstderr\u001B[39m\u001B[33m'\u001B[39m] = PIPE\n\u001B[32m--> \u001B[39m\u001B[32m554\u001B[39m \u001B[38;5;28;01mwith\u001B[39;00m \u001B[43mPopen\u001B[49m\u001B[43m(\u001B[49m\u001B[43m*\u001B[49m\u001B[43mpopenargs\u001B[49m\u001B[43m,\u001B[49m\u001B[43m \u001B[49m\u001B[43m*\u001B[49m\u001B[43m*\u001B[49m\u001B[43mkwargs\u001B[49m\u001B[43m)\u001B[49m \u001B[38;5;28;01mas\u001B[39;00m process:\n\u001B[32m    555\u001B[39m     \u001B[38;5;28;01mtry\u001B[39;00m:\n",
      "\u001B[36mFile \u001B[39m\u001B[32m~\\AppData\\Local\\Programs\\Python\\Python313\\Lib\\subprocess.py:1039\u001B[39m, in \u001B[36mPopen.__init__\u001B[39m\u001B[34m(self, args, bufsize, executable, stdin, stdout, stderr, preexec_fn, close_fds, shell, cwd, env, universal_newlines, startupinfo, creationflags, restore_signals, start_new_session, pass_fds, user, group, extra_groups, encoding, errors, text, umask, pipesize, process_group)\u001B[39m\n\u001B[32m   1036\u001B[39m             \u001B[38;5;28mself\u001B[39m.stderr = io.TextIOWrapper(\u001B[38;5;28mself\u001B[39m.stderr,\n\u001B[32m   1037\u001B[39m                     encoding=encoding, errors=errors)\n\u001B[32m-> \u001B[39m\u001B[32m1039\u001B[39m     \u001B[38;5;28;43mself\u001B[39;49m\u001B[43m.\u001B[49m\u001B[43m_execute_child\u001B[49m\u001B[43m(\u001B[49m\u001B[43margs\u001B[49m\u001B[43m,\u001B[49m\u001B[43m \u001B[49m\u001B[43mexecutable\u001B[49m\u001B[43m,\u001B[49m\u001B[43m \u001B[49m\u001B[43mpreexec_fn\u001B[49m\u001B[43m,\u001B[49m\u001B[43m \u001B[49m\u001B[43mclose_fds\u001B[49m\u001B[43m,\u001B[49m\n\u001B[32m   1040\u001B[39m \u001B[43m                        \u001B[49m\u001B[43mpass_fds\u001B[49m\u001B[43m,\u001B[49m\u001B[43m \u001B[49m\u001B[43mcwd\u001B[49m\u001B[43m,\u001B[49m\u001B[43m \u001B[49m\u001B[43menv\u001B[49m\u001B[43m,\u001B[49m\n\u001B[32m   1041\u001B[39m \u001B[43m                        \u001B[49m\u001B[43mstartupinfo\u001B[49m\u001B[43m,\u001B[49m\u001B[43m \u001B[49m\u001B[43mcreationflags\u001B[49m\u001B[43m,\u001B[49m\u001B[43m \u001B[49m\u001B[43mshell\u001B[49m\u001B[43m,\u001B[49m\n\u001B[32m   1042\u001B[39m \u001B[43m                        \u001B[49m\u001B[43mp2cread\u001B[49m\u001B[43m,\u001B[49m\u001B[43m \u001B[49m\u001B[43mp2cwrite\u001B[49m\u001B[43m,\u001B[49m\n\u001B[32m   1043\u001B[39m \u001B[43m                        \u001B[49m\u001B[43mc2pread\u001B[49m\u001B[43m,\u001B[49m\u001B[43m \u001B[49m\u001B[43mc2pwrite\u001B[49m\u001B[43m,\u001B[49m\n\u001B[32m   1044\u001B[39m \u001B[43m                        \u001B[49m\u001B[43merrread\u001B[49m\u001B[43m,\u001B[49m\u001B[43m \u001B[49m\u001B[43merrwrite\u001B[49m\u001B[43m,\u001B[49m\n\u001B[32m   1045\u001B[39m \u001B[43m                        \u001B[49m\u001B[43mrestore_signals\u001B[49m\u001B[43m,\u001B[49m\n\u001B[32m   1046\u001B[39m \u001B[43m                        \u001B[49m\u001B[43mgid\u001B[49m\u001B[43m,\u001B[49m\u001B[43m \u001B[49m\u001B[43mgids\u001B[49m\u001B[43m,\u001B[49m\u001B[43m \u001B[49m\u001B[43muid\u001B[49m\u001B[43m,\u001B[49m\u001B[43m \u001B[49m\u001B[43mumask\u001B[49m\u001B[43m,\u001B[49m\n\u001B[32m   1047\u001B[39m \u001B[43m                        \u001B[49m\u001B[43mstart_new_session\u001B[49m\u001B[43m,\u001B[49m\u001B[43m \u001B[49m\u001B[43mprocess_group\u001B[49m\u001B[43m)\u001B[49m\n\u001B[32m   1048\u001B[39m \u001B[38;5;28;01mexcept\u001B[39;00m:\n\u001B[32m   1049\u001B[39m     \u001B[38;5;66;03m# Cleanup if the child failed starting.\u001B[39;00m\n",
      "\u001B[36mFile \u001B[39m\u001B[32m~\\AppData\\Local\\Programs\\Python\\Python313\\Lib\\subprocess.py:1554\u001B[39m, in \u001B[36mPopen._execute_child\u001B[39m\u001B[34m(self, args, executable, preexec_fn, close_fds, pass_fds, cwd, env, startupinfo, creationflags, shell, p2cread, p2cwrite, c2pread, c2pwrite, errread, errwrite, unused_restore_signals, unused_gid, unused_gids, unused_uid, unused_umask, unused_start_new_session, unused_process_group)\u001B[39m\n\u001B[32m   1553\u001B[39m \u001B[38;5;28;01mtry\u001B[39;00m:\n\u001B[32m-> \u001B[39m\u001B[32m1554\u001B[39m     hp, ht, pid, tid = \u001B[43m_winapi\u001B[49m\u001B[43m.\u001B[49m\u001B[43mCreateProcess\u001B[49m\u001B[43m(\u001B[49m\u001B[43mexecutable\u001B[49m\u001B[43m,\u001B[49m\u001B[43m \u001B[49m\u001B[43margs\u001B[49m\u001B[43m,\u001B[49m\n\u001B[32m   1555\u001B[39m \u001B[43m                             \u001B[49m\u001B[38;5;66;43;03m# no special security\u001B[39;49;00m\n\u001B[32m   1556\u001B[39m \u001B[43m                             \u001B[49m\u001B[38;5;28;43;01mNone\u001B[39;49;00m\u001B[43m,\u001B[49m\u001B[43m \u001B[49m\u001B[38;5;28;43;01mNone\u001B[39;49;00m\u001B[43m,\u001B[49m\n\u001B[32m   1557\u001B[39m \u001B[43m                             \u001B[49m\u001B[38;5;28;43mint\u001B[39;49m\u001B[43m(\u001B[49m\u001B[38;5;129;43;01mnot\u001B[39;49;00m\u001B[43m \u001B[49m\u001B[43mclose_fds\u001B[49m\u001B[43m)\u001B[49m\u001B[43m,\u001B[49m\n\u001B[32m   1558\u001B[39m \u001B[43m                             \u001B[49m\u001B[43mcreationflags\u001B[49m\u001B[43m,\u001B[49m\n\u001B[32m   1559\u001B[39m \u001B[43m                             \u001B[49m\u001B[43menv\u001B[49m\u001B[43m,\u001B[49m\n\u001B[32m   1560\u001B[39m \u001B[43m                             \u001B[49m\u001B[43mcwd\u001B[49m\u001B[43m,\u001B[49m\n\u001B[32m   1561\u001B[39m \u001B[43m                             \u001B[49m\u001B[43mstartupinfo\u001B[49m\u001B[43m)\u001B[49m\n\u001B[32m   1562\u001B[39m \u001B[38;5;28;01mfinally\u001B[39;00m:\n\u001B[32m   1563\u001B[39m     \u001B[38;5;66;03m# Child is launched. Close the parent's copy of those pipe\u001B[39;00m\n\u001B[32m   1564\u001B[39m     \u001B[38;5;66;03m# handles that only the child should have open.  You need\u001B[39;00m\n\u001B[32m   (...)\u001B[39m\u001B[32m   1567\u001B[39m     \u001B[38;5;66;03m# pipe will not close when the child process exits and the\u001B[39;00m\n\u001B[32m   1568\u001B[39m     \u001B[38;5;66;03m# ReadFile will hang.\u001B[39;00m\n",
      "\u001B[31mFileNotFoundError\u001B[39m: [WinError 2] The system cannot find the file specified",
      "\nThe above exception was the direct cause of the following exception:\n",
      "\u001B[31mExecutableNotFound\u001B[39m                        Traceback (most recent call last)",
      "\u001B[36mCell\u001B[39m\u001B[36m \u001B[39m\u001B[32mIn[31]\u001B[39m\u001B[32m, line 21\u001B[39m\n\u001B[32m     18\u001B[39m     \u001B[38;5;28;01mreturn\u001B[39;00m g\n\u001B[32m     20\u001B[39m g = plot_tree(tree, g)\n\u001B[32m---> \u001B[39m\u001B[32m21\u001B[39m \u001B[43mg\u001B[49m\u001B[43m.\u001B[49m\u001B[43mrender\u001B[49m\u001B[43m(\u001B[49m\u001B[33;43m'\u001B[39;49m\u001B[33;43mdecision_tree\u001B[39;49m\u001B[33;43m'\u001B[39;49m\u001B[43m,\u001B[49m\u001B[43m \u001B[49m\u001B[38;5;28;43mformat\u001B[39;49m\u001B[43m=\u001B[49m\u001B[33;43m'\u001B[39;49m\u001B[33;43mpng\u001B[39;49m\u001B[33;43m'\u001B[39;49m\u001B[43m,\u001B[49m\u001B[43m \u001B[49m\u001B[43mview\u001B[49m\u001B[43m=\u001B[49m\u001B[38;5;28;43;01mTrue\u001B[39;49;00m\u001B[43m)\u001B[49m\n",
      "\u001B[36mFile \u001B[39m\u001B[32m~\\AppData\\Local\\Programs\\Python\\Python313\\Lib\\site-packages\\graphviz\\_tools.py:185\u001B[39m, in \u001B[36mdeprecate_positional_args.<locals>.decorator.<locals>.wrapper\u001B[39m\u001B[34m(*args, **kwargs)\u001B[39m\n\u001B[32m    177\u001B[39m     wanted = \u001B[33m'\u001B[39m\u001B[33m, \u001B[39m\u001B[33m'\u001B[39m.join(\u001B[33mf\u001B[39m\u001B[33m'\u001B[39m\u001B[38;5;132;01m{\u001B[39;00mname\u001B[38;5;132;01m}\u001B[39;00m\u001B[33m=\u001B[39m\u001B[38;5;132;01m{\u001B[39;00mvalue\u001B[38;5;132;01m!r}\u001B[39;00m\u001B[33m'\u001B[39m\n\u001B[32m    178\u001B[39m                        \u001B[38;5;28;01mfor\u001B[39;00m name, value \u001B[38;5;129;01min\u001B[39;00m deprecated.items())\n\u001B[32m    179\u001B[39m     warnings.warn(\u001B[33mf\u001B[39m\u001B[33m'\u001B[39m\u001B[33mThe signature of \u001B[39m\u001B[38;5;132;01m{\u001B[39;00mfunc_name\u001B[38;5;132;01m}\u001B[39;00m\u001B[33m will be reduced\u001B[39m\u001B[33m'\u001B[39m\n\u001B[32m    180\u001B[39m                   \u001B[33mf\u001B[39m\u001B[33m'\u001B[39m\u001B[33m to \u001B[39m\u001B[38;5;132;01m{\u001B[39;00msupported_number\u001B[38;5;132;01m}\u001B[39;00m\u001B[33m positional arg\u001B[39m\u001B[38;5;132;01m{\u001B[39;00ms_\u001B[38;5;132;01m}\u001B[39;00m\u001B[38;5;132;01m{\u001B[39;00mqualification\u001B[38;5;132;01m}\u001B[39;00m\u001B[33m'\u001B[39m\n\u001B[32m    181\u001B[39m                   \u001B[33mf\u001B[39m\u001B[33m'\u001B[39m\u001B[33m \u001B[39m\u001B[38;5;132;01m{\u001B[39;00m\u001B[38;5;28mlist\u001B[39m(supported)\u001B[38;5;132;01m}\u001B[39;00m\u001B[33m: pass \u001B[39m\u001B[38;5;132;01m{\u001B[39;00mwanted\u001B[38;5;132;01m}\u001B[39;00m\u001B[33m as keyword arg\u001B[39m\u001B[38;5;132;01m{\u001B[39;00ms_\u001B[38;5;132;01m}\u001B[39;00m\u001B[33m'\u001B[39m,\n\u001B[32m    182\u001B[39m                   stacklevel=stacklevel,\n\u001B[32m    183\u001B[39m                   category=category)\n\u001B[32m--> \u001B[39m\u001B[32m185\u001B[39m \u001B[38;5;28;01mreturn\u001B[39;00m \u001B[43mfunc\u001B[49m\u001B[43m(\u001B[49m\u001B[43m*\u001B[49m\u001B[43margs\u001B[49m\u001B[43m,\u001B[49m\u001B[43m \u001B[49m\u001B[43m*\u001B[49m\u001B[43m*\u001B[49m\u001B[43mkwargs\u001B[49m\u001B[43m)\u001B[49m\n",
      "\u001B[36mFile \u001B[39m\u001B[32m~\\AppData\\Local\\Programs\\Python\\Python313\\Lib\\site-packages\\graphviz\\rendering.py:122\u001B[39m, in \u001B[36mRender.render\u001B[39m\u001B[34m(self, filename, directory, view, cleanup, format, renderer, formatter, neato_no_op, quiet, quiet_view, outfile, engine, raise_if_result_exists, overwrite_source)\u001B[39m\n\u001B[32m    118\u001B[39m filepath = \u001B[38;5;28mself\u001B[39m.save(filename, directory=directory, skip_existing=\u001B[38;5;28;01mNone\u001B[39;00m)\n\u001B[32m    120\u001B[39m args.append(filepath)\n\u001B[32m--> \u001B[39m\u001B[32m122\u001B[39m rendered = \u001B[38;5;28;43mself\u001B[39;49m\u001B[43m.\u001B[49m\u001B[43m_render\u001B[49m\u001B[43m(\u001B[49m\u001B[43m*\u001B[49m\u001B[43margs\u001B[49m\u001B[43m,\u001B[49m\u001B[43m \u001B[49m\u001B[43m*\u001B[49m\u001B[43m*\u001B[49m\u001B[43mkwargs\u001B[49m\u001B[43m)\u001B[49m\n\u001B[32m    124\u001B[39m \u001B[38;5;28;01mif\u001B[39;00m cleanup:\n\u001B[32m    125\u001B[39m     log.debug(\u001B[33m'\u001B[39m\u001B[33mdelete \u001B[39m\u001B[38;5;132;01m%r\u001B[39;00m\u001B[33m'\u001B[39m, filepath)\n",
      "\u001B[36mFile \u001B[39m\u001B[32m~\\AppData\\Local\\Programs\\Python\\Python313\\Lib\\site-packages\\graphviz\\_tools.py:185\u001B[39m, in \u001B[36mdeprecate_positional_args.<locals>.decorator.<locals>.wrapper\u001B[39m\u001B[34m(*args, **kwargs)\u001B[39m\n\u001B[32m    177\u001B[39m     wanted = \u001B[33m'\u001B[39m\u001B[33m, \u001B[39m\u001B[33m'\u001B[39m.join(\u001B[33mf\u001B[39m\u001B[33m'\u001B[39m\u001B[38;5;132;01m{\u001B[39;00mname\u001B[38;5;132;01m}\u001B[39;00m\u001B[33m=\u001B[39m\u001B[38;5;132;01m{\u001B[39;00mvalue\u001B[38;5;132;01m!r}\u001B[39;00m\u001B[33m'\u001B[39m\n\u001B[32m    178\u001B[39m                        \u001B[38;5;28;01mfor\u001B[39;00m name, value \u001B[38;5;129;01min\u001B[39;00m deprecated.items())\n\u001B[32m    179\u001B[39m     warnings.warn(\u001B[33mf\u001B[39m\u001B[33m'\u001B[39m\u001B[33mThe signature of \u001B[39m\u001B[38;5;132;01m{\u001B[39;00mfunc_name\u001B[38;5;132;01m}\u001B[39;00m\u001B[33m will be reduced\u001B[39m\u001B[33m'\u001B[39m\n\u001B[32m    180\u001B[39m                   \u001B[33mf\u001B[39m\u001B[33m'\u001B[39m\u001B[33m to \u001B[39m\u001B[38;5;132;01m{\u001B[39;00msupported_number\u001B[38;5;132;01m}\u001B[39;00m\u001B[33m positional arg\u001B[39m\u001B[38;5;132;01m{\u001B[39;00ms_\u001B[38;5;132;01m}\u001B[39;00m\u001B[38;5;132;01m{\u001B[39;00mqualification\u001B[38;5;132;01m}\u001B[39;00m\u001B[33m'\u001B[39m\n\u001B[32m    181\u001B[39m                   \u001B[33mf\u001B[39m\u001B[33m'\u001B[39m\u001B[33m \u001B[39m\u001B[38;5;132;01m{\u001B[39;00m\u001B[38;5;28mlist\u001B[39m(supported)\u001B[38;5;132;01m}\u001B[39;00m\u001B[33m: pass \u001B[39m\u001B[38;5;132;01m{\u001B[39;00mwanted\u001B[38;5;132;01m}\u001B[39;00m\u001B[33m as keyword arg\u001B[39m\u001B[38;5;132;01m{\u001B[39;00ms_\u001B[38;5;132;01m}\u001B[39;00m\u001B[33m'\u001B[39m,\n\u001B[32m    182\u001B[39m                   stacklevel=stacklevel,\n\u001B[32m    183\u001B[39m                   category=category)\n\u001B[32m--> \u001B[39m\u001B[32m185\u001B[39m \u001B[38;5;28;01mreturn\u001B[39;00m \u001B[43mfunc\u001B[49m\u001B[43m(\u001B[49m\u001B[43m*\u001B[49m\u001B[43margs\u001B[49m\u001B[43m,\u001B[49m\u001B[43m \u001B[49m\u001B[43m*\u001B[49m\u001B[43m*\u001B[49m\u001B[43mkwargs\u001B[49m\u001B[43m)\u001B[49m\n",
      "\u001B[36mFile \u001B[39m\u001B[32m~\\AppData\\Local\\Programs\\Python\\Python313\\Lib\\site-packages\\graphviz\\backend\\rendering.py:326\u001B[39m, in \u001B[36mrender\u001B[39m\u001B[34m(engine, format, filepath, renderer, formatter, neato_no_op, quiet, outfile, raise_if_result_exists, overwrite_filepath)\u001B[39m\n\u001B[32m    322\u001B[39m cmd += args\n\u001B[32m    324\u001B[39m \u001B[38;5;28;01massert\u001B[39;00m filepath \u001B[38;5;129;01mis\u001B[39;00m \u001B[38;5;129;01mnot\u001B[39;00m \u001B[38;5;28;01mNone\u001B[39;00m, \u001B[33m'\u001B[39m\u001B[33mwork around pytype false alarm\u001B[39m\u001B[33m'\u001B[39m\n\u001B[32m--> \u001B[39m\u001B[32m326\u001B[39m \u001B[43mexecute\u001B[49m\u001B[43m.\u001B[49m\u001B[43mrun_check\u001B[49m\u001B[43m(\u001B[49m\u001B[43mcmd\u001B[49m\u001B[43m,\u001B[49m\n\u001B[32m    327\u001B[39m \u001B[43m                  \u001B[49m\u001B[43mcwd\u001B[49m\u001B[43m=\u001B[49m\u001B[43mfilepath\u001B[49m\u001B[43m.\u001B[49m\u001B[43mparent\u001B[49m\u001B[43m \u001B[49m\u001B[38;5;28;43;01mif\u001B[39;49;00m\u001B[43m \u001B[49m\u001B[43mfilepath\u001B[49m\u001B[43m.\u001B[49m\u001B[43mparent\u001B[49m\u001B[43m.\u001B[49m\u001B[43mparts\u001B[49m\u001B[43m \u001B[49m\u001B[38;5;28;43;01melse\u001B[39;49;00m\u001B[43m \u001B[49m\u001B[38;5;28;43;01mNone\u001B[39;49;00m\u001B[43m,\u001B[49m\n\u001B[32m    328\u001B[39m \u001B[43m                  \u001B[49m\u001B[43mquiet\u001B[49m\u001B[43m=\u001B[49m\u001B[43mquiet\u001B[49m\u001B[43m,\u001B[49m\n\u001B[32m    329\u001B[39m \u001B[43m                  \u001B[49m\u001B[43mcapture_output\u001B[49m\u001B[43m=\u001B[49m\u001B[38;5;28;43;01mTrue\u001B[39;49;00m\u001B[43m)\u001B[49m\n\u001B[32m    331\u001B[39m \u001B[38;5;28;01mreturn\u001B[39;00m os.fspath(outfile)\n",
      "\u001B[36mFile \u001B[39m\u001B[32m~\\AppData\\Local\\Programs\\Python\\Python313\\Lib\\site-packages\\graphviz\\backend\\execute.py:81\u001B[39m, in \u001B[36mrun_check\u001B[39m\u001B[34m(cmd, input_lines, encoding, quiet, **kwargs)\u001B[39m\n\u001B[32m     79\u001B[39m \u001B[38;5;28;01mexcept\u001B[39;00m \u001B[38;5;167;01mOSError\u001B[39;00m \u001B[38;5;28;01mas\u001B[39;00m e:\n\u001B[32m     80\u001B[39m     \u001B[38;5;28;01mif\u001B[39;00m e.errno == errno.ENOENT:\n\u001B[32m---> \u001B[39m\u001B[32m81\u001B[39m         \u001B[38;5;28;01mraise\u001B[39;00m ExecutableNotFound(cmd) \u001B[38;5;28;01mfrom\u001B[39;00m\u001B[38;5;250m \u001B[39m\u001B[34;01me\u001B[39;00m\n\u001B[32m     82\u001B[39m     \u001B[38;5;28;01mraise\u001B[39;00m\n\u001B[32m     84\u001B[39m \u001B[38;5;28;01mif\u001B[39;00m \u001B[38;5;129;01mnot\u001B[39;00m quiet \u001B[38;5;129;01mand\u001B[39;00m proc.stderr:\n",
      "\u001B[31mExecutableNotFound\u001B[39m: failed to execute WindowsPath('dot'), make sure the Graphviz executables are on your systems' PATH"
     ]
    }
   ],
   "execution_count": 31
  },
  {
   "cell_type": "markdown",
   "source": [
    "<font color='#GG15D'>**Question2:**</font> <font color='#EE15D'> Answer:"
   ],
   "metadata": {
    "id": "zulLYUkgKY3a"
   },
   "id": "zulLYUkgKY3a"
  },
  {
   "cell_type": "markdown",
   "id": "14c480d0-ecd4-4657-b0d3-f61e57d001c5",
   "metadata": {
    "jp-MarkdownHeadingCollapsed": true,
    "tags": [],
    "id": "14c480d0-ecd4-4657-b0d3-f61e57d001c5"
   },
   "source": [
    "## **🔸 Part 2: Decision Tree (sklearn): Regression**"
   ]
  },
  {
   "cell_type": "code",
   "execution_count": null,
   "id": "ab14e985-5c0a-412c-a1a7-28e91077d30f",
   "metadata": {
    "id": "ab14e985-5c0a-412c-a1a7-28e91077d30f"
   },
   "outputs": [],
   "source": [
    "from sklearn import tree"
   ]
  },
  {
   "cell_type": "markdown",
   "id": "0ca18d01-c1e8-48af-8954-a9f5bcaf3e7a",
   "metadata": {
    "jp-MarkdownHeadingCollapsed": true,
    "tags": [],
    "id": "0ca18d01-c1e8-48af-8954-a9f5bcaf3e7a"
   },
   "source": [
    "### Regression"
   ]
  },
  {
   "cell_type": "code",
   "execution_count": null,
   "id": "a70be661-4108-4d31-9bef-bdc42245c29c",
   "metadata": {
    "collapsed": true,
    "id": "a70be661-4108-4d31-9bef-bdc42245c29c"
   },
   "outputs": [],
   "source": [
    "df = .....................................................     #(14) read csv train energy dataset with pandas\n",
    "train_set = np.array(df)\n",
    "\n",
    "x_train = train_set[:, :-1]\n",
    "y_train = train_set[:, -1:]\n",
    "\n",
    "df = ................................................           #(15) read csv test energy dataset with pandas\n",
    "test_set = np.array(df)\n",
    "\n",
    "x_test = test_set[:, :-1]\n",
    "y_test = test_set[:, -1:]\n",
    "\n",
    "plt.scatter(x_train, y_train, marker='x')\n",
    "plt.scatter(x_test, y_test, c='r', marker='x')\n",
    "\n",
    "plt.legend(['Train', 'Test'])"
   ]
  },
  {
   "cell_type": "markdown",
   "source": [
    "<font color='#GG15D'>**Question3:**</font> <font color='#EE15D'> change the depth of the tree (1,2,3,4) and compare the data points and the trees"
   ],
   "metadata": {
    "id": "rhk0pDQEKkzL"
   },
   "id": "rhk0pDQEKkzL"
  },
  {
   "cell_type": "code",
   "execution_count": null,
   "id": "c67c7c1f-b753-4765-9859-4a03301b97be",
   "metadata": {
    "collapsed": true,
    "id": "c67c7c1f-b753-4765-9859-4a03301b97be"
   },
   "outputs": [],
   "source": [
    "depth =                                                                    #(16) different depths\n",
    "reg = tree.DecisionTreeRegressor(max_depth=depth, ccp_alpha=0.05)\n",
    "reg.fit(x_train, y_train)\n",
    "\n",
    "# Generate data points for plotting\n",
    "xp = np.arange(x_train.min(), x_train.max(), 0.01)[:, np.newaxis]\n",
    "yp = reg.predict(xp)\n",
    "\n",
    "plt.scatter(x_train, y_train, marker='x')\n",
    "plt.scatter(x_test, y_test, c='r', marker='x')\n",
    "plt.plot(xp, yp, color='gold', linewidth=3)\n",
    "\n",
    "plt.legend(['Train', 'Test', 'DT'])"
   ]
  },
  {
   "cell_type": "code",
   "execution_count": null,
   "id": "55104177-3380-48fb-ab2f-ccc07734488e",
   "metadata": {
    "collapsed": true,
    "id": "55104177-3380-48fb-ab2f-ccc07734488e"
   },
   "outputs": [],
   "source": [
    "plt.figure(figsize=(16, 8))\n",
    "tree.plot_tree(reg);"
   ]
  },
  {
   "cell_type": "code",
   "execution_count": null,
   "id": "f0120d30-7c8e-4b85-86f5-8af49e5bb071",
   "metadata": {
    "id": "f0120d30-7c8e-4b85-86f5-8af49e5bb071"
   },
   "outputs": [],
   "source": [
    "reg.score(x_train, y_train), reg.score(x_test, y_test)"
   ]
  },
  {
   "cell_type": "markdown",
   "source": [
    "<font color='#GG15D'>**Question3:**</font> <font color='#EE15D'> Answer:"
   ],
   "metadata": {
    "id": "19IjhU-6KuxL"
   },
   "id": "19IjhU-6KuxL"
  }
 ],
 "metadata": {
  "kernelspec": {
   "display_name": "Python 3",
   "name": "python3"
  },
  "language_info": {
   "codemirror_mode": {
    "name": "ipython",
    "version": 3
   },
   "file_extension": ".py",
   "mimetype": "text/x-python",
   "name": "python",
   "nbconvert_exporter": "python",
   "pygments_lexer": "ipython3",
   "version": "3.9.15"
  },
  "colab": {
   "provenance": [],
   "collapsed_sections": [
    "d92e6a20-72ff-448d-9d3f-180a750b3644"
   ],
   "include_colab_link": true
  }
 },
 "nbformat": 4,
 "nbformat_minor": 5
}
