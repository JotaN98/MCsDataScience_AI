{
  "cells": [
    {
      "cell_type": "markdown",
      "metadata": {
        "id": "view-in-github",
        "colab_type": "text"
      },
      "source": [
        "<a href=\"https://colab.research.google.com/github/Azadshokrollahi/Artificial-intelligence-for-data-science-/blob/main/Lab2.1-decision_trees.ipynb\" target=\"_parent\"><img src=\"https://colab.research.google.com/assets/colab-badge.svg\" alt=\"Open In Colab\"/></a>"
      ]
    },
    {
      "cell_type": "markdown",
      "source": [
        "# Structure of Lab 2\n",
        "\n",
        "- **1. Decision Tree**\n",
        "  - **Part 1: ID3 (from scratch) — placeholders 1–13**\n",
        "    - Use the **Baseball** train and test datasets (Canvas → Lab section).\n",
        "    - **Notes**\n",
        "      - Print the **information gain (IG)** for all features and compare them.\n",
        "      - Build and **visualize the decision tree**.\n",
        "      - **Compute predictions** on the test set.\n",
        "    - **Also:** Fill out all **16 placeholders** in the code and **answer 3 questions**.\n",
        "  - **Part 2: Decision Tree (scikit-learn) — Regression**\n",
        "    - Use the **Energy** train and test datasets.\n",
        "    - **Tasks**\n",
        "      - **Visualize** the tree at **four different depths**.\n",
        "      - **Compare** their final **errors**.\n",
        "      - **State** which **depth performs best** for this dataset.\n",
        "\n",
        "- **2. SVM**\n",
        "  - Proceed through the code, **answering 6 questions** one by one in **separate cells**, each inserted **after its corresponding question**.\n",
        "  - For **Questions 1–5**,  use the**created dataset** .\n",
        "  - For **Question 6**, use the **ex2data2.txt** dataset\n",
        "  \n",
        "  ( All data available on GitHub).\n"
      ],
      "metadata": {
        "id": "4Aq8D5wHW-01"
      },
      "id": "4Aq8D5wHW-01"
    },
    {
      "cell_type": "markdown",
      "id": "39444d95-9534-4e00-a43b-c526074796b6",
      "metadata": {
        "id": "39444d95-9534-4e00-a43b-c526074796b6"
      },
      "source": [
        "# <font color='#TTE99D'>**Decision Trees 🌵**</font>"
      ]
    },
    {
      "cell_type": "markdown",
      "id": "d92e6a20-72ff-448d-9d3f-180a750b3644",
      "metadata": {
        "jp-MarkdownHeadingCollapsed": true,
        "tags": [],
        "id": "d92e6a20-72ff-448d-9d3f-180a750b3644"
      },
      "source": [
        "## **🔸 Imports**"
      ]
    },
    {
      "cell_type": "code",
      "execution_count": null,
      "id": "5519d590-222a-4bdb-b2aa-1bc1372bb83f",
      "metadata": {
        "id": "5519d590-222a-4bdb-b2aa-1bc1372bb83f"
      },
      "outputs": [],
      "source": [
        "import pandas as pd\n",
        "import numpy as np\n",
        "import matplotlib.pyplot as plt\n",
        "import base64\n",
        "from IPython.display import Image, display\n",
        "from sklearn.model_selection import train_test_split\n",
        "from sklearn import tree  #Importing directly (Not from scratch)"
      ]
    },
    {
      "cell_type": "markdown",
      "id": "66cf6a80-9c54-47e9-92ea-b3c2d20e290f",
      "metadata": {
        "jp-MarkdownHeadingCollapsed": true,
        "tags": [],
        "id": "66cf6a80-9c54-47e9-92ea-b3c2d20e290f"
      },
      "source": [
        "## **🔸 Part 1: ID3 (from Scratch)**"
      ]
    },
    {
      "cell_type": "markdown",
      "id": "40a76beb-e4d0-4585-8cda-4d2ce8538ee5",
      "metadata": {
        "jp-MarkdownHeadingCollapsed": true,
        "tags": [],
        "id": "40a76beb-e4d0-4585-8cda-4d2ce8538ee5"
      },
      "source": [
        "### Data"
      ]
    },
    {
      "cell_type": "code",
      "execution_count": null,
      "id": "6bd748dc-4fb7-45d7-81e2-aafba825489d",
      "metadata": {
        "tags": [],
        "collapsed": true,
        "id": "6bd748dc-4fb7-45d7-81e2-aafba825489d"
      },
      "outputs": [],
      "source": [
        "data = ............................................                  #(1) read baseball train dataset with pandas\n",
        "data"
      ]
    },
    {
      "cell_type": "code",
      "execution_count": null,
      "id": "882c21f3-b9fd-4e14-a8f5-ac1770813f59",
      "metadata": {
        "collapsed": true,
        "id": "882c21f3-b9fd-4e14-a8f5-ac1770813f59"
      },
      "outputs": [],
      "source": [
        "data.columns = ['outlook', 'temperature', 'humidity', 'wind', 'play']\n",
        "data"
      ]
    },
    {
      "cell_type": "markdown",
      "id": "8ca791b4-a4b3-4caf-b6c2-79eddbe44160",
      "metadata": {
        "tags": [],
        "id": "8ca791b4-a4b3-4caf-b6c2-79eddbe44160"
      },
      "source": [
        "### Model"
      ]
    },
    {
      "cell_type": "markdown",
      "id": "be9d912c-884c-4fa9-a9a2-589934194bc2",
      "metadata": {
        "jp-MarkdownHeadingCollapsed": true,
        "tags": [],
        "id": "be9d912c-884c-4fa9-a9a2-589934194bc2"
      },
      "source": [
        "####  Entropy"
      ]
    },
    {
      "cell_type": "markdown",
      "id": "e7f2f473-bc11-47ef-a1a6-d44b8a0d4673",
      "metadata": {
        "id": "e7f2f473-bc11-47ef-a1a6-d44b8a0d4673"
      },
      "source": [
        "\\begin{align}\n",
        "\\text{Entropy}(Y) = -\\sum_{i=1}^{C} p_i \\log_2(p_i)\n",
        "\\end{align}"
      ]
    },
    {
      "cell_type": "code",
      "execution_count": null,
      "id": "58eb76ca-47d1-47c7-8640-028f311d9e16",
      "metadata": {
        "id": "58eb76ca-47d1-47c7-8640-028f311d9e16"
      },
      "outputs": [],
      "source": [
        "labels = data['play']\n",
        "len(labels), labels.unique(), labels.value_counts()\n",
        "p = labels.value_counts() / len(labels)\n",
        "-sum(p * np.log2(p))"
      ]
    },
    {
      "cell_type": "code",
      "source": [
        "# TODO: Implement entropy(labels) -> float\n",
        "def entropy(labels):\n",
        "    \"\"\"\n",
        "    Compute entropy H(Y) for a Pandas Series of labels.\n",
        "    HINT: use value_counts(normalize=True) and -sum(p*log2(p))\n",
        "    \"\"\"\n",
        "    # TODO begin\n",
        "    p = labels.value_counts() / len(......)                           #(2)\n",
        "    return -sum(p * np.log2(....))                                    #(3)\n",
        "    # TODO end\n",
        "\n",
        "# quick check\n",
        "entropy(data['play'])"
      ],
      "metadata": {
        "id": "B7i1UyTHqu2q"
      },
      "id": "B7i1UyTHqu2q",
      "execution_count": null,
      "outputs": []
    },
    {
      "cell_type": "markdown",
      "id": "0987206b-fd0d-4235-9a7a-e90e6b84562b",
      "metadata": {
        "jp-MarkdownHeadingCollapsed": true,
        "tags": [],
        "id": "0987206b-fd0d-4235-9a7a-e90e6b84562b"
      },
      "source": [
        "####  Information Gain: now you have to calculate IG for all features"
      ]
    },
    {
      "cell_type": "markdown",
      "id": "8bcea635-966d-4a5d-8af0-db33b086b0cc",
      "metadata": {
        "id": "8bcea635-966d-4a5d-8af0-db33b086b0cc"
      },
      "source": [
        "\\begin{align}\n",
        "\\text{Information Gain}(\\text{Feature}) = \\text{Entropy}(\\text{Parent}) - \\sum_{\\text{value} \\in \\text{Feature}} \\frac{|\\text{Subset with value}|}{|\\text{Parent}|} \\times \\text{Entropy}(\\text{Subset with value})\n",
        "\\end{align}"
      ]
    },
    {
      "cell_type": "code",
      "execution_count": null,
      "id": "ef7257c6-d941-461f-98f0-1b31c4a026c3",
      "metadata": {
        "id": "ef7257c6-d941-461f-98f0-1b31c4a026c3",
        "outputId": "b1acdadf-f1c3-4366-f2dd-c78ccdb1c6f1"
      },
      "outputs": [
        {
          "data": {
            "text/html": [
              "<div>\n",
              "<style scoped>\n",
              "    .dataframe tbody tr th:only-of-type {\n",
              "        vertical-align: middle;\n",
              "    }\n",
              "\n",
              "    .dataframe tbody tr th {\n",
              "        vertical-align: top;\n",
              "    }\n",
              "\n",
              "    .dataframe thead th {\n",
              "        text-align: right;\n",
              "    }\n",
              "</style>\n",
              "<table border=\"1\" class=\"dataframe\">\n",
              "  <thead>\n",
              "    <tr style=\"text-align: right;\">\n",
              "      <th></th>\n",
              "      <th>outlook</th>\n",
              "      <th>temperature</th>\n",
              "      <th>humidity</th>\n",
              "      <th>wind</th>\n",
              "      <th>play</th>\n",
              "    </tr>\n",
              "  </thead>\n",
              "  <tbody>\n",
              "    <tr>\n",
              "      <th>0</th>\n",
              "      <td>Sunny</td>\n",
              "      <td>Hot</td>\n",
              "      <td>High</td>\n",
              "      <td>Weak</td>\n",
              "      <td>No</td>\n",
              "    </tr>\n",
              "    <tr>\n",
              "      <th>2</th>\n",
              "      <td>Overcast</td>\n",
              "      <td>Hot</td>\n",
              "      <td>High</td>\n",
              "      <td>Weak</td>\n",
              "      <td>Yes</td>\n",
              "    </tr>\n",
              "    <tr>\n",
              "      <th>3</th>\n",
              "      <td>Rain</td>\n",
              "      <td>Mild</td>\n",
              "      <td>High</td>\n",
              "      <td>Weak</td>\n",
              "      <td>Yes</td>\n",
              "    </tr>\n",
              "    <tr>\n",
              "      <th>4</th>\n",
              "      <td>Rain</td>\n",
              "      <td>Cool</td>\n",
              "      <td>Normal</td>\n",
              "      <td>Weak</td>\n",
              "      <td>Yes</td>\n",
              "    </tr>\n",
              "    <tr>\n",
              "      <th>7</th>\n",
              "      <td>Sunny</td>\n",
              "      <td>Mild</td>\n",
              "      <td>High</td>\n",
              "      <td>Weak</td>\n",
              "      <td>No</td>\n",
              "    </tr>\n",
              "    <tr>\n",
              "      <th>8</th>\n",
              "      <td>Sunny</td>\n",
              "      <td>Cool</td>\n",
              "      <td>Normal</td>\n",
              "      <td>Weak</td>\n",
              "      <td>Yes</td>\n",
              "    </tr>\n",
              "    <tr>\n",
              "      <th>9</th>\n",
              "      <td>Rain</td>\n",
              "      <td>Mild</td>\n",
              "      <td>Normal</td>\n",
              "      <td>Weak</td>\n",
              "      <td>Yes</td>\n",
              "    </tr>\n",
              "    <tr>\n",
              "      <th>12</th>\n",
              "      <td>Overcast</td>\n",
              "      <td>Hot</td>\n",
              "      <td>Normal</td>\n",
              "      <td>Weak</td>\n",
              "      <td>Yes</td>\n",
              "    </tr>\n",
              "  </tbody>\n",
              "</table>\n",
              "</div>"
            ],
            "text/plain": [
              "     outlook temperature humidity  wind play\n",
              "0      Sunny         Hot     High  Weak   No\n",
              "2   Overcast         Hot     High  Weak  Yes\n",
              "3       Rain        Mild     High  Weak  Yes\n",
              "4       Rain        Cool   Normal  Weak  Yes\n",
              "7      Sunny        Mild     High  Weak   No\n",
              "8      Sunny        Cool   Normal  Weak  Yes\n",
              "9       Rain        Mild   Normal  Weak  Yes\n",
              "12  Overcast         Hot   Normal  Weak  Yes"
            ]
          },
          "metadata": {},
          "output_type": "display_data"
        },
        {
          "data": {
            "text/html": [
              "<div>\n",
              "<style scoped>\n",
              "    .dataframe tbody tr th:only-of-type {\n",
              "        vertical-align: middle;\n",
              "    }\n",
              "\n",
              "    .dataframe tbody tr th {\n",
              "        vertical-align: top;\n",
              "    }\n",
              "\n",
              "    .dataframe thead th {\n",
              "        text-align: right;\n",
              "    }\n",
              "</style>\n",
              "<table border=\"1\" class=\"dataframe\">\n",
              "  <thead>\n",
              "    <tr style=\"text-align: right;\">\n",
              "      <th></th>\n",
              "      <th>outlook</th>\n",
              "      <th>temperature</th>\n",
              "      <th>humidity</th>\n",
              "      <th>wind</th>\n",
              "      <th>play</th>\n",
              "    </tr>\n",
              "  </thead>\n",
              "  <tbody>\n",
              "    <tr>\n",
              "      <th>1</th>\n",
              "      <td>Sunny</td>\n",
              "      <td>Hot</td>\n",
              "      <td>High</td>\n",
              "      <td>Strong</td>\n",
              "      <td>No</td>\n",
              "    </tr>\n",
              "    <tr>\n",
              "      <th>5</th>\n",
              "      <td>Rain</td>\n",
              "      <td>Cool</td>\n",
              "      <td>Normal</td>\n",
              "      <td>Strong</td>\n",
              "      <td>No</td>\n",
              "    </tr>\n",
              "    <tr>\n",
              "      <th>6</th>\n",
              "      <td>Overcast</td>\n",
              "      <td>Cool</td>\n",
              "      <td>Normal</td>\n",
              "      <td>Strong</td>\n",
              "      <td>Yes</td>\n",
              "    </tr>\n",
              "    <tr>\n",
              "      <th>10</th>\n",
              "      <td>Sunny</td>\n",
              "      <td>Mild</td>\n",
              "      <td>Normal</td>\n",
              "      <td>Strong</td>\n",
              "      <td>Yes</td>\n",
              "    </tr>\n",
              "    <tr>\n",
              "      <th>11</th>\n",
              "      <td>Overcast</td>\n",
              "      <td>Mild</td>\n",
              "      <td>High</td>\n",
              "      <td>Strong</td>\n",
              "      <td>Yes</td>\n",
              "    </tr>\n",
              "    <tr>\n",
              "      <th>13</th>\n",
              "      <td>Rain</td>\n",
              "      <td>Hot</td>\n",
              "      <td>High</td>\n",
              "      <td>Strong</td>\n",
              "      <td>No</td>\n",
              "    </tr>\n",
              "  </tbody>\n",
              "</table>\n",
              "</div>"
            ],
            "text/plain": [
              "     outlook temperature humidity    wind play\n",
              "1      Sunny         Hot     High  Strong   No\n",
              "5       Rain        Cool   Normal  Strong   No\n",
              "6   Overcast        Cool   Normal  Strong  Yes\n",
              "10     Sunny        Mild   Normal  Strong  Yes\n",
              "11  Overcast        Mild     High  Strong  Yes\n",
              "13      Rain         Hot     High  Strong   No"
            ]
          },
          "metadata": {},
          "output_type": "display_data"
        },
        {
          "name": "stdout",
          "output_type": "stream",
          "text": [
            "0.04812703040826949\n"
          ]
        }
      ],
      "source": [
        "target = 'play'\n",
        "entropy_parent = entropy(data[target])\n",
        "entropy_parent\n",
        "\n",
        "entropy_child = 0\n",
        "feature = 'wind'\n",
        "for value in data[feature].unique():\n",
        "    subset = data[data[feature] == value]\n",
        "    display(subset)\n",
        "    wi = len(subset) / len(data)\n",
        "    entropy_child += wi * entropy(subset[target])\n",
        "information_gain = entropy_parent - entropy_child\n",
        "\n",
        "print(information_gain)"
      ]
    },
    {
      "cell_type": "code",
      "source": [
        "# TODO: Implement information_gain(data, feature, target) -> float\n",
        "\n",
        "def information_gain(data, feature, target):\n",
        "    \"\"\"\n",
        "    IG = H(parent) - sum_v (|Dv|/|D|)*H(Dv)\n",
        "    \"\"\"\n",
        "    # TODO begin\n",
        "    # Entropy of parent\n",
        "    entropy_parent = entropy(......[.........])                        #(4)\n",
        "\n",
        "    # Entropy of child\n",
        "    entropy_child = 0.0\n",
        "    for value in data[feature].unique():\n",
        "        subset = data[data[.........] == value]                        #(5)\n",
        "        wi = len(........) / len(data)                                 #(6)\n",
        "        entropy_child += wi * entropy(subset[target])\n",
        "    return entropy_parent - entropy_child\n",
        "    # TODO end"
      ],
      "metadata": {
        "id": "q9dnAZrLr70h"
      },
      "id": "q9dnAZrLr70h",
      "execution_count": null,
      "outputs": []
    },
    {
      "cell_type": "markdown",
      "source": [
        "<font color='#GG15D'>**Question1:**</font> <font color='#EE15D'>: Now, you should calculate IG for all features and say which one is more important**"
      ],
      "metadata": {
        "id": "KPgcvmkztebp"
      },
      "id": "KPgcvmkztebp"
    },
    {
      "cell_type": "code",
      "source": [
        "information_gain(data, 'wind', 'play')\n",
        "information_gain(data, 'humidity', 'play')\n",
        "information_gain(data, 'outlook', 'play')\n",
        "information_gain(data, 'temperature', 'play')"
      ],
      "metadata": {
        "id": "EWQAfswOstji"
      },
      "id": "EWQAfswOstji",
      "execution_count": null,
      "outputs": []
    },
    {
      "cell_type": "markdown",
      "source": [
        "<font color='#GG15D'>**Question1:**</font> <font color='#EE15D'> Answer:"
      ],
      "metadata": {
        "id": "mkOFlLzHJh0p"
      },
      "id": "mkOFlLzHJh0p"
    },
    {
      "cell_type": "markdown",
      "id": "606c932e-34e8-4584-95b1-f5d268b23361",
      "metadata": {
        "jp-MarkdownHeadingCollapsed": true,
        "tags": [],
        "id": "606c932e-34e8-4584-95b1-f5d268b23361"
      },
      "source": [
        "####  Decision Tree & Node"
      ]
    },
    {
      "cell_type": "markdown",
      "source": [
        "Based on the following images, you need a Node class and a make_tree function. The Node class is already written, and you are expected to fill in the make_tree function"
      ],
      "metadata": {
        "id": "XBBG_kzM0ZCF"
      },
      "id": "XBBG_kzM0ZCF"
    },
    {
      "cell_type": "code",
      "source": [
        "import os, base64\n",
        "from IPython.display import HTML, display\n",
        "\n",
        "def embed_image(path, width=200):\n",
        "    assert os.path.exists(path), f\"Not found: {path}\"\n",
        "    with open(path, \"rb\") as f:\n",
        "        b64 = base64.b64encode(f.read()).decode(\"ascii\")\n",
        "    return f'<img src=\"data:image/png;base64,{b64}\" width=\"{width}\"/>'\n",
        "\n",
        "def show_images(paths, width=200, gap=10):\n",
        "    imgs = \"\".join(embed_image(p, width) for p in paths)\n",
        "    html = f'<div style=\"display:flex; gap:{gap}px;\">{imgs}</div>'\n",
        "    display(HTML(html))\n",
        "\n",
        "show_images(\n",
        "    [\"/content/decision-tree.png\", \"/content/node.png\"],\n",
        "    width=500,\n",
        "    gap=15\n",
        ")\n"
      ],
      "metadata": {
        "colab": {
          "base_uri": "https://localhost:8080/",
          "height": 263
        },
        "id": "cU_nLlEyjWz2",
        "outputId": "50ace16d-a0d8-454a-ea21-05dfcb5b4734"
      },
      "id": "cU_nLlEyjWz2",
      "execution_count": null,
      "outputs": [
        {
          "output_type": "display_data",
          "data": {
            "text/plain": [
              "<IPython.core.display.HTML object>"
            ],
            "text/html": [
              "<div style=\"display:flex; gap:15px;\"><img src=\"data:image/png;base64,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\" width=\"500\"/><img src=\"data:image/png;base64,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\" width=\"500\"/></div>"
            ]
          },
          "metadata": {}
        }
      ]
    },
    {
      "cell_type": "code",
      "execution_count": null,
      "id": "1265600f-0549-4eff-8d92-aac848a03de8",
      "metadata": {
        "tags": [],
        "id": "1265600f-0549-4eff-8d92-aac848a03de8",
        "outputId": "a0d25b07-944a-4842-f780-e3bc03faea38"
      },
      "outputs": [
        {
          "data": {
            "text/plain": [
              "DecisionNode(feature=\"wind\", children={})"
            ]
          },
          "execution_count": 69,
          "metadata": {},
          "output_type": "execute_result"
        }
      ],
      "source": [
        "class Node:\n",
        "\n",
        "    def __init__(self, feature=None, label=None):\n",
        "        self.feature = feature\n",
        "        self.label = label\n",
        "        self.children = {}\n",
        "\n",
        "    def __repr__(self):\n",
        "        if self.feature is not None:\n",
        "            return f'DecisionNode(feature=\"{self.feature}\", children={self.children})'\n",
        "        else:\n",
        "            return f'LeafNode(label=\"{self.label}\")'\n",
        "\n",
        "Node(feature='wind')\n",
        "# Node(label='yes')"
      ]
    },
    {
      "cell_type": "markdown",
      "source": [
        "<font color='#EE15D'>**Fill out make_tree function**"
      ],
      "metadata": {
        "id": "u3v4fua-u07D"
      },
      "id": "u3v4fua-u07D"
    },
    {
      "cell_type": "code",
      "source": [
        "# TODO: Implement make_tree(data, target) -> Node\n",
        "def make_tree(data, target):\n",
        "    \"\"\"\n",
        "    Recursively build an ID3 tree.\n",
        "    Base cases:\n",
        "      - if all labels same -> leaf(label)\n",
        "      - if no features left -> leaf(majority class)\n",
        "    Otherwise:\n",
        "      - choose feature with max IG\n",
        "      - for each value of that feature, build subtree on the subset (drop that feature)\n",
        "    \"\"\"\n",
        "    # TODO begin\n",
        "    # leaf node?\n",
        "    if len(data[target].unique()) == 1:\n",
        "        return Node(label=data[target].iloc[0])\n",
        "\n",
        "    features = data.drop(target, axis=1).columns\n",
        "    if len(features) == 0 or len(data) == 0:\n",
        "        return Node(label=data[target].mode()[0])\n",
        "\n",
        "    # calculate information gain\n",
        "    gains = [information_gain(data, ......., ........) for feature in features]                   #(7)\n",
        "\n",
        "    # greedy search to find best feature\n",
        "    max_gain_idx = np.argmax(gains)\n",
        "    best_feature = ...........[max_gain_idx]                                                      #(8)\n",
        "\n",
        "    # make a node\n",
        "    node = Node(feature=best_feature)\n",
        "\n",
        "    # loop over the best feature\n",
        "    for value in data[..........].unique():                                                       #(9)\n",
        "        subset = data[data[..........] == value].drop(.........., axis=1)                         #(10)\n",
        "        node.children[value] = make_tree(subset, target)\n",
        "\n",
        "    return node\n",
        "    # TODO end"
      ],
      "metadata": {
        "id": "uOmmXgWSu6bH"
      },
      "id": "uOmmXgWSu6bH",
      "execution_count": null,
      "outputs": []
    },
    {
      "cell_type": "code",
      "source": [
        "tree = make_tree(data, 'play')\n",
        "tree\n",
        "\n",
        "tree.feature"
      ],
      "metadata": {
        "id": "-znJvZfA1hsS"
      },
      "id": "-znJvZfA1hsS",
      "execution_count": null,
      "outputs": []
    },
    {
      "cell_type": "markdown",
      "id": "89c31785-611a-46df-af6f-d33f2da983a9",
      "metadata": {
        "jp-MarkdownHeadingCollapsed": true,
        "tags": [],
        "id": "89c31785-611a-46df-af6f-d33f2da983a9"
      },
      "source": [
        "### Evaluation"
      ]
    },
    {
      "cell_type": "code",
      "execution_count": null,
      "id": "f59c3e36-1922-489d-8f0d-ac23b534ebfa",
      "metadata": {
        "id": "f59c3e36-1922-489d-8f0d-ac23b534ebfa",
        "outputId": "838aaa6c-8c9e-49e9-c6ab-4d912935e809"
      },
      "outputs": [
        {
          "data": {
            "text/html": [
              "<div>\n",
              "<style scoped>\n",
              "    .dataframe tbody tr th:only-of-type {\n",
              "        vertical-align: middle;\n",
              "    }\n",
              "\n",
              "    .dataframe tbody tr th {\n",
              "        vertical-align: top;\n",
              "    }\n",
              "\n",
              "    .dataframe thead th {\n",
              "        text-align: right;\n",
              "    }\n",
              "</style>\n",
              "<table border=\"1\" class=\"dataframe\">\n",
              "  <thead>\n",
              "    <tr style=\"text-align: right;\">\n",
              "      <th></th>\n",
              "      <th>outlook</th>\n",
              "      <th>temperature</th>\n",
              "      <th>humidity</th>\n",
              "      <th>wind</th>\n",
              "      <th>play</th>\n",
              "    </tr>\n",
              "  </thead>\n",
              "  <tbody>\n",
              "    <tr>\n",
              "      <th>0</th>\n",
              "      <td>Overcast</td>\n",
              "      <td>Mild</td>\n",
              "      <td>High</td>\n",
              "      <td>Weak</td>\n",
              "      <td>Yes</td>\n",
              "    </tr>\n",
              "    <tr>\n",
              "      <th>1</th>\n",
              "      <td>Rain</td>\n",
              "      <td>Cool</td>\n",
              "      <td>Normal</td>\n",
              "      <td>Strong</td>\n",
              "      <td>No</td>\n",
              "    </tr>\n",
              "    <tr>\n",
              "      <th>2</th>\n",
              "      <td>Sunny</td>\n",
              "      <td>Hot</td>\n",
              "      <td>Normal</td>\n",
              "      <td>Weak</td>\n",
              "      <td>Yes</td>\n",
              "    </tr>\n",
              "  </tbody>\n",
              "</table>\n",
              "</div>"
            ],
            "text/plain": [
              "    outlook temperature humidity    wind play\n",
              "0  Overcast        Mild     High    Weak  Yes\n",
              "1      Rain        Cool   Normal  Strong   No\n",
              "2     Sunny         Hot   Normal    Weak  Yes"
            ]
          },
          "execution_count": 110,
          "metadata": {},
          "output_type": "execute_result"
        }
      ],
      "source": [
        "data_test = pd.read_csv('data/baseball-test.csv')\n",
        "data_test.columns = ['outlook', 'temperature', 'humidity', 'wind', 'play']\n",
        "data_test"
      ]
    },
    {
      "cell_type": "code",
      "source": [
        "# TODO : Implement predict(node, sample_dict) -> label\n",
        "def predict(node, sample):\n",
        "    \"\"\"\n",
        "    Predict class for one sample (dict-like).\n",
        "    If unseen branch happens, you may fallback to current node's label (or majority of subtree).\n",
        "    \"\"\"\n",
        "\n",
        "    if node.feature is None:\n",
        "        return ................                                                         #(11)\n",
        "\n",
        "    feature_value = sample[node.feature]\n",
        "\n",
        "    if feature_value in node.children:\n",
        "        return predict(node.children[feature_value], sample)\n",
        "    else:\n",
        "        # simple fallback: return current node's most frequent descendant label\n",
        "        return ...............                                                           #(12)\n",
        "\n",
        "\n",
        "[predict(......., .........) for _, sample in data_test.iterrows()]                      #(13)"
      ],
      "metadata": {
        "id": "Xj8fghbX1wQ-"
      },
      "id": "Xj8fghbX1wQ-",
      "execution_count": null,
      "outputs": []
    },
    {
      "cell_type": "markdown",
      "source": [
        "<font color='#GG15D'>**Question2:**</font> <font color='#EE15D'> Visulize the tree"
      ],
      "metadata": {
        "id": "7J7Q-5XhKQWL"
      },
      "id": "7J7Q-5XhKQWL"
    },
    {
      "cell_type": "markdown",
      "id": "2a296d1a-d333-40cc-acb5-82ede70230bc",
      "metadata": {
        "jp-MarkdownHeadingCollapsed": true,
        "tags": [],
        "id": "2a296d1a-d333-40cc-acb5-82ede70230bc"
      },
      "source": [
        "### Visualization"
      ]
    },
    {
      "cell_type": "code",
      "execution_count": null,
      "id": "165e16ce-0f2f-4830-a1cd-456ffa65a229",
      "metadata": {
        "id": "165e16ce-0f2f-4830-a1cd-456ffa65a229"
      },
      "outputs": [],
      "source": [
        "from graphviz import Digraph, nohtml\n",
        "\n",
        "g = Digraph('g', filename='decision-tree.gv', node_attr={'shape': 'record', 'height': '.1'})\n",
        "\n",
        "def plot_tree(tree, g):\n",
        "    root_node = tree.feature\n",
        "    if root_node is None:\n",
        "        return g\n",
        "    g.node(root_node, nohtml(root_node))\n",
        "    child_nodes = tree.children.keys()\n",
        "    for i, child in enumerate(child_nodes):\n",
        "        node = tree.children[child]\n",
        "        name = node.feature if node.feature is not None else child+node.label\n",
        "        label = node.feature if node.feature is not None else node.label\n",
        "        g.node(name, nohtml(label))\n",
        "        g.edge(root_node, name, label=child)\n",
        "        plot_tree(node, g)\n",
        "    return g\n",
        "\n",
        "g = plot_tree(tree, g)\n",
        "g.render('decision_tree', format='png', view=True)"
      ]
    },
    {
      "cell_type": "markdown",
      "source": [
        "<font color='#GG15D'>**Question2:**</font> <font color='#EE15D'> Answer:"
      ],
      "metadata": {
        "id": "zulLYUkgKY3a"
      },
      "id": "zulLYUkgKY3a"
    },
    {
      "cell_type": "markdown",
      "id": "14c480d0-ecd4-4657-b0d3-f61e57d001c5",
      "metadata": {
        "jp-MarkdownHeadingCollapsed": true,
        "tags": [],
        "id": "14c480d0-ecd4-4657-b0d3-f61e57d001c5"
      },
      "source": [
        "## **🔸 Part 2: Decision Tree (sklearn): Regression**"
      ]
    },
    {
      "cell_type": "code",
      "execution_count": null,
      "id": "ab14e985-5c0a-412c-a1a7-28e91077d30f",
      "metadata": {
        "id": "ab14e985-5c0a-412c-a1a7-28e91077d30f"
      },
      "outputs": [],
      "source": [
        "from sklearn import tree"
      ]
    },
    {
      "cell_type": "markdown",
      "id": "0ca18d01-c1e8-48af-8954-a9f5bcaf3e7a",
      "metadata": {
        "jp-MarkdownHeadingCollapsed": true,
        "tags": [],
        "id": "0ca18d01-c1e8-48af-8954-a9f5bcaf3e7a"
      },
      "source": [
        "### Regression"
      ]
    },
    {
      "cell_type": "code",
      "execution_count": null,
      "id": "a70be661-4108-4d31-9bef-bdc42245c29c",
      "metadata": {
        "collapsed": true,
        "id": "a70be661-4108-4d31-9bef-bdc42245c29c"
      },
      "outputs": [],
      "source": [
        "df = .....................................................     #(14) read csv train energy dataset with pandas\n",
        "train_set = np.array(df)\n",
        "\n",
        "x_train = train_set[:, :-1]\n",
        "y_train = train_set[:, -1:]\n",
        "\n",
        "df = ................................................           #(15) read csv test energy dataset with pandas\n",
        "test_set = np.array(df)\n",
        "\n",
        "x_test = test_set[:, :-1]\n",
        "y_test = test_set[:, -1:]\n",
        "\n",
        "plt.scatter(x_train, y_train, marker='x')\n",
        "plt.scatter(x_test, y_test, c='r', marker='x')\n",
        "\n",
        "plt.legend(['Train', 'Test'])"
      ]
    },
    {
      "cell_type": "markdown",
      "source": [
        "<font color='#GG15D'>**Question3:**</font> <font color='#EE15D'> change the depth of the tree (1,2,3,4) and compare the data points and the trees"
      ],
      "metadata": {
        "id": "rhk0pDQEKkzL"
      },
      "id": "rhk0pDQEKkzL"
    },
    {
      "cell_type": "code",
      "execution_count": null,
      "id": "c67c7c1f-b753-4765-9859-4a03301b97be",
      "metadata": {
        "collapsed": true,
        "id": "c67c7c1f-b753-4765-9859-4a03301b97be"
      },
      "outputs": [],
      "source": [
        "depth =                                                                    #(16) different depths\n",
        "reg = tree.DecisionTreeRegressor(max_depth=depth, ccp_alpha=0.05)\n",
        "reg.fit(x_train, y_train)\n",
        "\n",
        "# Generate data points for plotting\n",
        "xp = np.arange(x_train.min(), x_train.max(), 0.01)[:, np.newaxis]\n",
        "yp = reg.predict(xp)\n",
        "\n",
        "plt.scatter(x_train, y_train, marker='x')\n",
        "plt.scatter(x_test, y_test, c='r', marker='x')\n",
        "plt.plot(xp, yp, color='gold', linewidth=3)\n",
        "\n",
        "plt.legend(['Train', 'Test', 'DT'])"
      ]
    },
    {
      "cell_type": "code",
      "execution_count": null,
      "id": "55104177-3380-48fb-ab2f-ccc07734488e",
      "metadata": {
        "collapsed": true,
        "id": "55104177-3380-48fb-ab2f-ccc07734488e"
      },
      "outputs": [],
      "source": [
        "plt.figure(figsize=(16, 8))\n",
        "tree.plot_tree(reg);"
      ]
    },
    {
      "cell_type": "code",
      "execution_count": null,
      "id": "f0120d30-7c8e-4b85-86f5-8af49e5bb071",
      "metadata": {
        "id": "f0120d30-7c8e-4b85-86f5-8af49e5bb071"
      },
      "outputs": [],
      "source": [
        "reg.score(x_train, y_train), reg.score(x_test, y_test)"
      ]
    },
    {
      "cell_type": "markdown",
      "source": [
        "<font color='#GG15D'>**Question3:**</font> <font color='#EE15D'> Answer:"
      ],
      "metadata": {
        "id": "19IjhU-6KuxL"
      },
      "id": "19IjhU-6KuxL"
    }
  ],
  "metadata": {
    "kernelspec": {
      "display_name": "Python 3",
      "name": "python3"
    },
    "language_info": {
      "codemirror_mode": {
        "name": "ipython",
        "version": 3
      },
      "file_extension": ".py",
      "mimetype": "text/x-python",
      "name": "python",
      "nbconvert_exporter": "python",
      "pygments_lexer": "ipython3",
      "version": "3.9.15"
    },
    "colab": {
      "provenance": [],
      "collapsed_sections": [
        "d92e6a20-72ff-448d-9d3f-180a750b3644"
      ],
      "include_colab_link": true
    }
  },
  "nbformat": 4,
  "nbformat_minor": 5
}